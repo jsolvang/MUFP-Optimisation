{
 "cells": [
  {
   "cell_type": "code",
   "execution_count": 1,
   "metadata": {},
   "outputs": [],
   "source": [
    "import pandas as pd\n",
    "import numpy as np\n",
    "import matplotlib.pyplot as plt\n",
    "import pickle \n",
    "import sys\n",
    "import seaborn as sb\n",
    "import math\n",
    "from matplotlib.ticker import LinearLocator"
   ]
  },
  {
   "cell_type": "code",
   "execution_count": 2,
   "metadata": {},
   "outputs": [],
   "source": [
    "sys.path.append(r'C:\\Users\\Joar\\Documents\\1_Education\\NTNU\\OneDrive - NTNU\\Thesis\\Modelling\\FD Model')"
   ]
  },
  {
   "cell_type": "code",
   "execution_count": 3,
   "metadata": {},
   "outputs": [
    {
     "name": "stdout",
     "output_type": "stream",
     "text": [
      "Unable to import mpi4py. Parallel processing unavailable.\n",
      "Unable to import petsc4py. Parallel processing unavailable.\n",
      "Unable to import petsc4py. Parallel processing unavailable.\n"
     ]
    }
   ],
   "source": [
    "from FloaterParameters import FloaterParameters\n",
    "from Environment import Environment\n",
    "from Buoy import Buoy\n",
    "from Mass import Mass\n",
    "from Density import Density\n",
    "from Area import Area\n",
    "from GeneralisedCoordinateSystem import GeneralisedCoordinateSystem\n",
    "from SystemMatrices import MatrixCalculation\n",
    "from ComputeHydroCoefficients import CompHydroCoefficient\n",
    "from plot_hydroD_results import plot_hydroD_results\n",
    "from ReadWadamLis import ReadWadamLis\n",
    "from CheckInterpolation import InterpolateParameters\n",
    "from kSolve import ksolve"
   ]
  },
  {
   "cell_type": "code",
   "execution_count": 4,
   "metadata": {},
   "outputs": [],
   "source": [
    "plt.rcParams['axes.grid'] = True\n",
    "plt.rcParams[\"figure.figsize\"] = (20, 10)\n",
    "plt.rcParams.update({'font.size': 20})"
   ]
  },
  {
   "cell_type": "code",
   "execution_count": 5,
   "metadata": {},
   "outputs": [],
   "source": [
    "# To be used if running simulations\n",
    "interpolate = 0\n",
    "pull_results = 0\n",
    "write_one = 0\n",
    "write = 0\n",
    "run = 0\n",
    "parameters = np.array([[90,90]])\n",
    "column_diameter = [12]"
   ]
  },
  {
   "cell_type": "code",
   "execution_count": 6,
   "metadata": {},
   "outputs": [],
   "source": [
    "mufp = FloaterParameters(parameters[0,0],parameters[0,1], column_diameter[0])\n",
    "env = Environment()\n",
    "rho = Density()\n",
    "csa = Area(mufp)\n",
    "buoy = Buoy(mufp, csa, rho)\n",
    "mass = Mass(mufp, csa, buoy, rho)\n",
    "coord = GeneralisedCoordinateSystem(mufp, csa, mass, rho, buoy, env)"
   ]
  },
  {
   "cell_type": "code",
   "execution_count": 7,
   "metadata": {},
   "outputs": [],
   "source": [
    "path = r'C:\\Users\\Joar\\Documents\\1_Education\\NTNU\\WadamRun1\\WADAM1.LIS'\n",
    "hydroD_results = open(path, 'r').readlines()"
   ]
  },
  {
   "cell_type": "code",
   "execution_count": 8,
   "metadata": {},
   "outputs": [],
   "source": [
    "found = 0\n",
    "ii = 0"
   ]
  },
  {
   "cell_type": "code",
   "execution_count": 9,
   "metadata": {},
   "outputs": [],
   "source": [
    "ii = 1\n",
    "found = 0\n",
    "while found == 0 and ii < len(hydroD_results):\n",
    "    k = hydroD_results[ii].find(\n",
    "        '    THE OUTPUT IS NON-DIMENSIONALIZED USING -\\n')\n",
    "    ii += 1\n",
    "    if k != -1:\n",
    "        found = 1\n",
    "        RO = float(hydroD_results[ii + 7].split()[2])\n",
    "        G = float(hydroD_results[ii + 8].split()[2])\n",
    "        VOL = float(hydroD_results[ii + 9].split()[2])\n",
    "        L = float(hydroD_results[ii + 10].split()[2])\n",
    "        WA = float(hydroD_results[ii + 11].split()[2])"
   ]
  },
  {
   "cell_type": "code",
   "execution_count": 10,
   "metadata": {},
   "outputs": [],
   "source": [
    "found = 0\n",
    "ii = 0"
   ]
  },
  {
   "cell_type": "code",
   "execution_count": 11,
   "metadata": {},
   "outputs": [],
   "source": [
    "while found == 0:\n",
    "    k = hydroD_results[ii].find('2.8 ENVIRONMENTAL DATA:\\n')\n",
    "    ii += 1\n",
    "    if k != -1:\n",
    "        found = 1\n",
    "        waterdepth = float(hydroD_results[ii + 2].split()[3])\n",
    "        numwavelengths = int(hydroD_results[ii + 3].split()[5])\n",
    "        numheadangles = int(hydroD_results[ii + 4].split()[5])\n",
    "        wavedata = np.zeros(shape=(numwavelengths, numheadangles, 5))\n",
    "\n",
    "        for jj in np.linspace(1, numheadangles, numheadangles).astype(int) - 1:\n",
    "            for kk in np.linspace(1, numwavelengths, numwavelengths).astype(int) - 1:\n",
    "                wavedata[kk, jj, :] = np.float_(hydroD_results[ii + kk + 12].split())\n",
    "\n",
    "ii = 1\n",
    "found = 0\n"
   ]
  },
  {
   "cell_type": "code",
   "execution_count": 12,
   "metadata": {},
   "outputs": [],
   "source": [
    "wave_disc = np.zeros(shape=(int(numwavelengths), 5))\n",
    "\n",
    "while found == 0:\n",
    "    k = hydroD_results[ii].find('     WAVE DESCRIPTION:\\n')\n",
    "    ii += 1\n",
    "    if k != -1:\n",
    "        found = 1\n",
    "        for jj in np.linspace(0, int(numwavelengths) - 1, int(numwavelengths)).astype(int):\n",
    "            wave_disc[jj, :] = np.float_(hydroD_results[ii + 4 + jj].split())"
   ]
  },
  {
   "cell_type": "code",
   "execution_count": 13,
   "metadata": {},
   "outputs": [],
   "source": [
    "ii = 1\n",
    "found = 0\n",
    "\n",
    "while found == 0:\n",
    "    k = hydroD_results[ii].find(' 2.3.1 DATA SPECIFYING THE PANEL MODEL:\\n')\n",
    "    ii += 1\n",
    "    if k != -1:\n",
    "        found = 1\n",
    "        num_wet_panels = int(hydroD_results[ii+39].split()[6])\n",
    "        num_panels = int(hydroD_results[ii+40].split()[10])\n",
    "        num_dry_panels = int(hydroD_results[ii+41].split()[8])"
   ]
  },
  {
   "cell_type": "code",
   "execution_count": 14,
   "metadata": {},
   "outputs": [],
   "source": [
    "panel_pressure = np.zeros(shape=(numheadangles, numwavelengths, 2* num_wet_panels+1, 21))"
   ]
  },
  {
   "cell_type": "code",
   "execution_count": 15,
   "metadata": {},
   "outputs": [],
   "source": [
    "ii = 1\n",
    "found = 0"
   ]
  },
  {
   "cell_type": "code",
   "execution_count": 16,
   "metadata": {
    "scrolled": false
   },
   "outputs": [],
   "source": [
    "found = 0\n",
    "kk = 0\n",
    "ii = 0\n",
    "panel_area = np.zeros(shape=(5,num_wet_panels))\n",
    "while found == 0:\n",
    "    k = hydroD_results[ii].find('   PI   PANO IVER X         Y         Z          NX      NY      NZ     XC        YC        ZC        AREA      DIAG\\n')\n",
    "    ii += 1\n",
    "    if k != -1:\n",
    "        ii += 3\n",
    "        for jj in np.arange(0,15,1):\n",
    "            if hydroD_results[ii+5*jj] == '1\\n':\n",
    "                break\n",
    "            panel_area[0,kk] = hydroD_results[ii+5*jj].split()[0]\n",
    "            panel_area[1,kk] = hydroD_results[ii+5*jj].split()[-2]\n",
    "            panel_area[2, kk] = float(''.join(list(hydroD_results[ii+5*jj])[48:70]).split()[0])\n",
    "            panel_area[3, kk] = float(''.join(list(hydroD_results[ii+5*jj])[48:70]).split()[1])\n",
    "            panel_area[4, kk] = float(''.join(list(hydroD_results[ii+5*jj])[48:70]).split()[2])\n",
    "            kk += 1\n",
    "            if int(hydroD_results[ii+5*jj].split()[0]) == num_wet_panels:\n",
    "                found = 1\n",
    "                break"
   ]
  },
  {
   "cell_type": "code",
   "execution_count": 22,
   "metadata": {},
   "outputs": [],
   "source": [
    "found = 0\n",
    "kk = 0\n",
    "ii = 0"
   ]
  },
  {
   "cell_type": "code",
   "execution_count": 23,
   "metadata": {
    "scrolled": false
   },
   "outputs": [],
   "source": [
    "for bb in np.arange(0,numwavelengths,1):\n",
    "    for aa in np.arange(0,numheadangles,1):\n",
    "        kk = 0\n",
    "        found = 0\n",
    "        while found == 0:\n",
    "            k = hydroD_results[ii].find('    BASIC PART                                                                                                                     \\n')\n",
    "            ii += 1\n",
    "            if k != -1:\n",
    "                found = 1\n",
    "                for jj in np.arange(0,41,1):\n",
    "                    if hydroD_results[ii+5+jj] == '1\\n':\n",
    "                        break\n",
    "                    panel_pressure[aa,bb,kk,0:11] = hydroD_results[ii+5+jj].split()\n",
    "                    panel_pressure[aa,bb,kk,11] = panel_area[1,int(panel_pressure[aa,bb,kk,0])-1]\n",
    "                    # [real, imag, abs]* area * normal direction\n",
    "                    panel_pressure[aa,bb,kk,12:15] = panel_pressure[aa,bb,kk,7:10]*panel_pressure[aa,bb,kk,11]*panel_area[2, int(panel_pressure[aa,bb,kk,0])-1]\n",
    "                    panel_pressure[aa,bb,kk,15:18] = panel_pressure[aa,bb,kk,7:10]*panel_pressure[aa,bb,kk,11]*panel_area[3, int(panel_pressure[aa,bb,kk,0])-1]\n",
    "                    panel_pressure[aa,bb,kk,18:21] = panel_pressure[aa,bb,kk,7:10]*panel_pressure[aa,bb,kk,11]*panel_area[4, int(panel_pressure[aa,bb,kk,0])-1]\n",
    "                    kk += 1\n",
    "\n",
    "        found = 0     \n",
    "\n",
    "        while found == 0:\n",
    "            k = hydroD_results[ii].find('    BASIC PART  CONT.                                                                                                              \\n')\n",
    "            ii += 1\n",
    "            if k != -1:\n",
    "                for jj in np.arange(0,41,1):\n",
    "                    if hydroD_results[ii+5+jj] == '1\\n':\n",
    "                        break\n",
    "                    panel_pressure[aa,bb,kk,0:11] = hydroD_results[ii+5+jj].split()\n",
    "                    panel_pressure[aa,bb,kk,11] = panel_area[1,int(panel_pressure[aa,bb,kk,0])-1]\n",
    "                    # [real, imag, abs]* area * normal direction\n",
    "                    panel_pressure[aa,bb,kk,12:15] = panel_pressure[aa,bb,kk,7:10]*panel_pressure[aa,bb,kk,11]*panel_area[2, int(panel_pressure[aa,bb,kk,0])-1]\n",
    "                    panel_pressure[aa,bb,kk,15:18] = panel_pressure[aa,bb,kk,7:10]*panel_pressure[aa,bb,kk,11]*panel_area[3, int(panel_pressure[aa,bb,kk,0])-1]\n",
    "                    panel_pressure[aa,bb,kk,18:21] = panel_pressure[aa,bb,kk,7:10]*panel_pressure[aa,bb,kk,11]*panel_area[4, int(panel_pressure[aa,bb,kk,0])-1]\n",
    "                    kk += 1\n",
    "                    if int(hydroD_results[ii+5+jj].split()[0]) == num_wet_panels:\n",
    "                        found = 1\n",
    "                        break\n",
    "        \n",
    "        found = 0\n",
    "\n",
    "        while found == 0:\n",
    "            k = hydroD_results[ii].find('    1. REFLECTION                                                                                                                  \\n')\n",
    "            ii += 1\n",
    "            if k != -1:\n",
    "                for jj in np.arange(0,41,1):\n",
    "                    if hydroD_results[ii+5+jj] == '1\\n':\n",
    "                        found = 1\n",
    "                        break\n",
    "                    panel_pressure[aa,bb,kk,0:11] = hydroD_results[ii+5+jj].split()\n",
    "                    panel_pressure[aa,bb,kk,11] = panel_area[1,int(panel_pressure[aa,bb,kk,0])-1]\n",
    "                    # [real, imag, abs]* area * normal direction\n",
    "                    panel_pressure[aa,bb,kk,12:15] = panel_pressure[aa,bb,kk,7:10]*panel_pressure[aa,bb,kk,11]*panel_area[2, int(panel_pressure[aa,bb,kk,0])-1]\n",
    "                    panel_pressure[aa,bb,kk,15:18] = panel_pressure[aa,bb,kk,7:10]*panel_pressure[aa,bb,kk,11]*-1*panel_area[3, int(panel_pressure[aa,bb,kk,0])-1]\n",
    "                    panel_pressure[aa,bb,kk,18:21] = panel_pressure[aa,bb,kk,7:10]*panel_pressure[aa,bb,kk,11]*panel_area[4, int(panel_pressure[aa,bb,kk,0])-1]\n",
    "                    kk += 1\n",
    "        found = 0\n",
    "\n",
    "        while found == 0:\n",
    "            k = hydroD_results[ii].find('    1. REFLECTION  CONT.                                                                                                           \\n')\n",
    "            ii += 1\n",
    "            if k != -1:\n",
    "                for jj in np.arange(0,41,1):\n",
    "                    if hydroD_results[ii+5+jj] == '1\\n':\n",
    "                        break\n",
    "                    panel_pressure[aa,bb,kk,0:11] = hydroD_results[ii+5+jj].split()\n",
    "                    panel_pressure[aa,bb,kk,11] = panel_area[1,int(panel_pressure[aa,bb,kk,0])-1]\n",
    "                    # [real, imag, abs]* area * normal direction\n",
    "                    panel_pressure[aa,bb,kk,12:15] = panel_pressure[aa,bb,kk,7:10]*panel_pressure[aa,bb,kk,11]*panel_area[2, int(panel_pressure[aa,bb,kk,0])-1]\n",
    "                    panel_pressure[aa,bb,kk,15:18] = panel_pressure[aa,bb,kk,7:10]*panel_pressure[aa,bb,kk,11]*-1*panel_area[3, int(panel_pressure[aa,bb,kk,0])-1]\n",
    "                    panel_pressure[aa,bb,kk,18:21] = panel_pressure[aa,bb,kk,7:10]*panel_pressure[aa,bb,kk,11]*panel_area[4, int(panel_pressure[aa,bb,kk,0])-1]\n",
    "                    kk += 1\n",
    "                    if int(hydroD_results[ii+5+jj].split()[0]) == num_wet_panels:\n",
    "                        found = 1\n",
    "                        break"
   ]
  },
  {
   "cell_type": "code",
   "execution_count": 24,
   "metadata": {},
   "outputs": [],
   "source": [
    "panel_pressure[:,:,:,7:10] *= RO*G*WA\n",
    "panel_pressure[:,:,:,12:21] *= RO*G*WA"
   ]
  },
  {
   "cell_type": "code",
   "execution_count": 26,
   "metadata": {},
   "outputs": [
    {
     "data": {
      "text/plain": [
       "'    EXCITING FORCES AND MOMENTS FROM INTEGRATION OF PRESSURE                                                                       \\n'"
      ]
     },
     "execution_count": 26,
     "metadata": {},
     "output_type": "execute_result"
    }
   ],
   "source": [
    "hydroD_results[34138]"
   ]
  },
  {
   "cell_type": "code",
   "execution_count": null,
   "metadata": {},
   "outputs": [],
   "source": [
    "plt.figure()\n",
    "plt.plot(panel_pressure[0,50,:,12],label='50')\n",
    "plt.plot(panel_pressure[0,51,:,12], label='51')\n",
    "plt.plot(panel_pressure[0,52,:,12], label='52')\n",
    "plt.legend()"
   ]
  },
  {
   "cell_type": "code",
   "execution_count": null,
   "metadata": {},
   "outputs": [],
   "source": [
    "plt.figure()\n",
    "plt.plot(panel_pressure[0,50,:,15], label='50')\n",
    "plt.plot(panel_pressure[0,51,:,15], label='51')\n",
    "plt.plot(panel_pressure[0,52,:,15], label='52')\n",
    "plt.legend()"
   ]
  },
  {
   "cell_type": "code",
   "execution_count": null,
   "metadata": {},
   "outputs": [],
   "source": [
    "plt.figure()\n",
    "plt.plot(panel_pressure[0,50,:,18], label='50')\n",
    "plt.plot(panel_pressure[0,51,:,18], label='51')\n",
    "plt.plot(panel_pressure[0,52,:,18], label='52')\n",
    "plt.legend()"
   ]
  },
  {
   "cell_type": "markdown",
   "metadata": {},
   "source": [
    "####        PI   PANO SET IND   XC         YC         ZC          REAL PART   IMAG.PART    ABS.VALUE   PHASE ANGLE(DEG)"
   ]
  },
  {
   "cell_type": "code",
   "execution_count": null,
   "metadata": {},
   "outputs": [],
   "source": [
    "front_column = panel_pressure[:,:,np.where(panel_pressure[0,0,:,4]<-5)[0],:].copy()\n",
    "left_column = panel_pressure[:,:,np.where(panel_pressure[0,0,:,5]<-15)[0],:].copy()\n",
    "right_column = panel_pressure[:,:,np.where(panel_pressure[0,0,:,5]>15)[0],:].copy()"
   ]
  },
  {
   "cell_type": "markdown",
   "metadata": {},
   "source": [
    "#### Calculating Net Force as a function of frequency\n",
    "- Phase angle important but would probably already be accounted for by wavelength\n",
    "- A + jB\n",
    "- Lets take the absolute"
   ]
  },
  {
   "cell_type": "markdown",
   "metadata": {},
   "source": [
    "Lets sum the pressure * area of each of the columns"
   ]
  },
  {
   "cell_type": "markdown",
   "metadata": {},
   "source": [
    "    PRESSURE DISTRIBUTION     INCLUDE PRESSURES FROM BOTH THE RADIATION- AND DIFFRACTION VELOCITY POTENTIALS.\n",
    "                              NO FLUCTUATING HYDROSTATIC PRESSURES DUE TO MOTION ARE INCLUDED."
   ]
  },
  {
   "cell_type": "code",
   "execution_count": null,
   "metadata": {},
   "outputs": [],
   "source": [
    "front_column_force = np.zeros(shape=(2,84,9))\n",
    "left_column_force = np.zeros(shape=(2,84,9))\n",
    "right_column_force = np.zeros(shape=(2,84,9))"
   ]
  },
  {
   "cell_type": "code",
   "execution_count": null,
   "metadata": {},
   "outputs": [],
   "source": [
    "for ii in np.arange(0, numheadangles, 1).astype(int):\n",
    "    for jj in np.arange(0, numwavelengths, 1).astype(int):\n",
    "        front_column_force[ii, jj, :] = np.sum(front_column[ii, jj, :, 12:21], axis=0)\n",
    "\n",
    "for ii in np.arange(0, numheadangles, 1).astype(int):\n",
    "    for jj in np.arange(0, numwavelengths, 1).astype(int):\n",
    "        left_column_force[ii, jj, :] = np.sum(left_column[ii, jj, :, 12:21], axis=0)\n",
    "\n",
    "for ii in np.arange(0, numheadangles, 1).astype(int):\n",
    "    for jj in np.arange(0, numwavelengths, 1).astype(int):\n",
    "        right_column_force[ii, jj, :] = np.sum(right_column[ii, jj, :, 12:21], axis=0)"
   ]
  },
  {
   "cell_type": "code",
   "execution_count": null,
   "metadata": {},
   "outputs": [],
   "source": [
    "pd.DataFrame(front_column[0,0,:,12:21])"
   ]
  },
  {
   "cell_type": "code",
   "execution_count": null,
   "metadata": {},
   "outputs": [],
   "source": [
    "pd.DataFrame(front_column_force[0,:,:])"
   ]
  },
  {
   "cell_type": "code",
   "execution_count": null,
   "metadata": {},
   "outputs": [],
   "source": [
    "plt.figure()\n",
    "plt.plot(wave_disc[:, 4], front_column_force[0,:,0], label='real - x')\n",
    "plt.plot(wave_disc[:, 4], front_column_force[0,:,1], '-*', label='imag - x')\n",
    "plt.plot(wave_disc[:, 4], front_column_force[0,:,2], label='abs - x')\n",
    "#for xc in omega_x:\n",
    "#    plt.axvline(x=xc, linestyle='--', linewidth=2, color='c')\n",
    "for xc in omega_y:\n",
    "    plt.axvline(x=xc, linestyle='--', linewidth=2, color='m')\n",
    "#for xc in omega_xy:\n",
    "#    plt.axvline(x=xc, linestyle='--', linewidth=2, color='y')  \n",
    "plt.ticklabel_format(axis=\"y\", style=\"sci\", scilimits=(0, 0))\n",
    "plt.xlabel('Frequency [rad/s]')\n",
    "plt.ylabel('Force [N]')\n",
    "plt.ylim([-5e6,1e7])\n",
    "plt.legend()"
   ]
  },
  {
   "cell_type": "code",
   "execution_count": null,
   "metadata": {},
   "outputs": [],
   "source": [
    "plt.figure()\n",
    "plt.plot(wave_disc[:, 4], front_column_force[0,:,3],'-*', label='real - y')\n",
    "plt.plot(wave_disc[:, 4], front_column_force[0,:,4], label='imag - y')\n",
    "plt.plot(wave_disc[:, 4], front_column_force[0,:,5], label='abs - y')\n",
    "plt.ticklabel_format(axis=\"y\", style=\"sci\", scilimits=(0, 0))\n",
    "plt.xlabel('Frequency [rad/s]')\n",
    "plt.ylabel('Force [N]')\n",
    "plt.ylim([-5e6,5e6])\n",
    "plt.legend()"
   ]
  },
  {
   "cell_type": "code",
   "execution_count": null,
   "metadata": {},
   "outputs": [],
   "source": [
    "plt.figure()\n",
    "plt.plot(wave_disc[:, 4], front_column_force[0,:,6],'-*', label='real - z')\n",
    "plt.plot(wave_disc[:, 4], front_column_force[0,:,7], label='imag - z')\n",
    "plt.plot(wave_disc[:, 4], front_column_force[0,:,8], label='abs - z')\n",
    "plt.ticklabel_format(axis=\"y\", style=\"sci\", scilimits=(0, 0))\n",
    "plt.xlabel('Frequency [rad/s]')\n",
    "plt.ylabel('Force [N]')\n",
    "plt.ylim([-5e6,5e6])\n",
    "plt.legend()"
   ]
  },
  {
   "cell_type": "code",
   "execution_count": null,
   "metadata": {},
   "outputs": [],
   "source": [
    "plt.figure()\n",
    "plt.plot(wave_disc[:, 4], front_column_force[0,:,8], label='abs - front')\n",
    "plt.plot(wave_disc[:, 4], left_column_force[0,:,8], label='abs - left')\n",
    "plt.plot(wave_disc[:, 4], right_column_force[0,:,8], label='abs - right')\n",
    "plt.ticklabel_format(axis=\"y\", style=\"sci\", scilimits=(0, 0))\n",
    "plt.xlabel('Frequency [rad/s]')\n",
    "plt.ylabel('Force [N]')\n",
    "plt.ylim([-5e6,1e7])\n",
    "plt.legend()"
   ]
  },
  {
   "cell_type": "code",
   "execution_count": null,
   "metadata": {},
   "outputs": [],
   "source": [
    "L_d = []\n",
    "k_d = []\n",
    "omega_d  = np.zeros(21)\n",
    "for jj, i in enumerate(np.arange(1., 20., 0.1)):\n",
    "    L_d.append(mufp.dia_column / i)\n",
    "    k_d.append(2 * np.pi / L_d[jj])\n",
    "L_d = np.array(L_d)\n",
    "k_d = np.array(k_d)\n",
    "omega_d = np.sqrt(env.g * k_d * np.tanh(k_d * env.h))\n",
    "omega_d = np.delete(omega_d, np.where(omega_d > 5))"
   ]
  },
  {
   "cell_type": "code",
   "execution_count": null,
   "metadata": {},
   "outputs": [],
   "source": [
    "#for xc in omega_x:\n",
    "#    plt.axvline(x=xc, linestyle='--', linewidth=2, color='c')\n",
    "#for xc in omega_y:\n",
    "#    plt.axvline(x=xc, linestyle='--', linewidth=2, color='m')\n",
    "#for xc in omega_xy:\n",
    "#    plt.axvline(x=xc, linestyle='--', linewidth=2, color='y')   "
   ]
  },
  {
   "cell_type": "code",
   "execution_count": null,
   "metadata": {},
   "outputs": [],
   "source": [
    "L_x = np.zeros(21)\n",
    "k_x = np.zeros(21)\n",
    "\n",
    "L_y = np.zeros(21)\n",
    "k_y = np.zeros(21)\n",
    "L_xy = np.zeros(21)\n",
    "k_xy = np.zeros(21)\n",
    "\n",
    "omega_list = np.arange(0.01, 5, 0.01)\n",
    "k_list = np.zeros(len(omega_list))\n",
    "L_list = np.zeros(len(omega_list))\n",
    "\n",
    "phi_x = np.zeros(len(omega_list))\n",
    "phi_y = np.zeros(len(omega_list))\n",
    "phi_xy = np.zeros(len(omega_list))\n",
    "\n",
    "\n",
    "for ii in np.linspace(0, len(omega_list) - 1, len(omega_list)).astype(int):\n",
    "    [k_list[ii], L_list[ii]] = ksolve(omega_list[ii], 50, 9.81)\n",
    "    phi_x[ii] = (mufp.x_space / L_list[ii]) - np.floor(mufp.x_space / L_list[ii])\n",
    "    phi_y[ii] = (mufp.y_space / L_list[ii]) - np.floor(mufp.y_space / L_list[ii])\n",
    "    phi_xy[ii] = (np.sqrt(mufp.y_space**2 + mufp.x_space**2)  / L_list[ii]) - np.floor(np.sqrt(mufp.y_space**2 + mufp.x_space**2)  / L_list[ii])\n",
    "\n",
    "phi_x = phi_x * 360 - 180\n",
    "phi_y = phi_y * 360 - 180\n",
    "\n",
    "for i in np.linspace(1, 20, 20).astype(int):\n",
    "    L_x[i] = mufp.x_space / i\n",
    "    k_x[i] = 2 * np.pi / L_x[i]\n",
    "omega_x = np.sqrt(env.g * k_x * np.tanh(k_x * env.h))\n",
    "omega_x = np.delete(omega_x, np.where(omega_x < 0.5))\n",
    "omega_x = np.delete(omega_x, np.where(omega_x > 5))\n",
    "\n",
    "for i in np.linspace(1, 20, 20).astype(int):\n",
    "    L_y[i] = mufp.y_space / i\n",
    "    k_y[i] = 2 * np.pi / L_y[i]\n",
    "omega_y = np.sqrt(env.g * k_y * np.tanh(k_y * env.h))\n",
    "omega_y = np.delete(omega_y, np.where(omega_y < 0.5))\n",
    "omega_y = np.delete(omega_y, np.where(omega_y > 5))\n",
    "\n",
    "for i in np.linspace(1, 20, 20).astype(int):\n",
    "    L_xy[i] = np.sqrt(mufp.y_space**2 + mufp.x_space**2)   / i\n",
    "    k_xy[i] = 2 * np.pi / L_xy[i]\n",
    "omega_xy = np.sqrt(env.g * k_xy * np.tanh(k_xy * env.h))\n",
    "omega_xy = np.delete(omega_xy, np.where(omega_xy < 0.5))\n",
    "omega_xy = np.delete(omega_xy, np.where(omega_xy > 5))"
   ]
  },
  {
   "cell_type": "code",
   "execution_count": null,
   "metadata": {},
   "outputs": [],
   "source": []
  }
 ],
 "metadata": {
  "kernelspec": {
   "display_name": "Python 3",
   "language": "python",
   "name": "python3"
  },
  "language_info": {
   "codemirror_mode": {
    "name": "ipython",
    "version": 3
   },
   "file_extension": ".py",
   "mimetype": "text/x-python",
   "name": "python",
   "nbconvert_exporter": "python",
   "pygments_lexer": "ipython3",
   "version": "3.7.6"
  }
 },
 "nbformat": 4,
 "nbformat_minor": 4
}
