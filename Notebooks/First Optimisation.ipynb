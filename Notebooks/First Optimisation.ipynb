{
 "cells": [
  {
   "cell_type": "code",
   "execution_count": 1,
   "metadata": {},
   "outputs": [],
   "source": [
    "import pandas as pd\n",
    "import numpy as np\n",
    "import matplotlib.pyplot as plt\n",
    "import pickle \n",
    "import sys\n",
    "import seaborn as sb\n",
    "import math\n",
    "from numpy import random\n",
    "from scipy.signal import find_peaks\n",
    "from scipy.optimize import minimize\n",
    "from matplotlib.ticker import LinearLocator\n",
    "\n",
    "sys.path.append(r'C:\\Users\\Joar\\Documents\\1_Education\\NTNU\\OneDrive - NTNU\\Thesis\\Modelling\\FD Model')"
   ]
  },
  {
   "cell_type": "code",
   "execution_count": 2,
   "metadata": {},
   "outputs": [
    {
     "name": "stdout",
     "output_type": "stream",
     "text": [
      "Unable to import mpi4py. Parallel processing unavailable.\n",
      "Unable to import petsc4py. Parallel processing unavailable.\n",
      "Unable to import petsc4py. Parallel processing unavailable.\n"
     ]
    }
   ],
   "source": [
    "from FloaterParameters import FloaterParameters\n",
    "from Environment import Environment\n",
    "from Buoy import Buoy\n",
    "from Mass import Mass\n",
    "from Density import Density\n",
    "from Area import Area\n",
    "from GeneralisedCoordinateSystem import GeneralisedCoordinateSystem\n",
    "from SystemMatrices import MatrixCalculation\n",
    "from ComputeHydroCoefficients import CompHydroCoefficient\n",
    "from plot_hydroD_results import plot_hydroD_results\n",
    "from ReadWadamLis import ReadWadamLis\n",
    "from CheckInterpolation import InterpolateParameters\n",
    "from jonswap import jonswap\n",
    "from RAO_Calculation import calulate_RAOs\n",
    "from kSolve import ksolve\n",
    "from SpectrumStatistics import spectrum_response \n",
    "from InterpolateHydroDResults import InterpolateResults\n",
    "from StaticThrustCheck import StaticThrustCheck\n",
    "from OptimizationProblem import OptimizationProblem"
   ]
  },
  {
   "cell_type": "code",
   "execution_count": 3,
   "metadata": {},
   "outputs": [],
   "source": [
    "df = 1 / 3600\n",
    "f = np.arange(0.01, 5, df)"
   ]
  },
  {
   "cell_type": "code",
   "execution_count": 4,
   "metadata": {},
   "outputs": [],
   "source": [
    "floater = FloaterParameters(60,80,12)\n",
    "env = Environment()\n",
    "rho = Density()\n",
    "csa = Area(floater)\n",
    "buoy = Buoy(floater, csa, rho)\n",
    "mass = Mass(floater, csa, buoy, rho)\n",
    "coord = GeneralisedCoordinateSystem(floater, csa, mass, rho, buoy, env)\n",
    "matrix = MatrixCalculation(coord, mass, floater, rho, env, csa, buoy)"
   ]
  },
  {
   "cell_type": "code",
   "execution_count": 5,
   "metadata": {},
   "outputs": [],
   "source": [
    "file_loc = r'C:\\Users\\Joar\\Documents\\1_Education\\NTNU\\pickle_files'\n",
    "file_name = \"\\sim_x_%d_y_%d_D%d\" % (60,80,12)\n",
    "file_path = file_loc + file_name\n",
    "infile = open(file_path, 'rb')\n",
    "results = (pickle.load(infile))\n",
    "infile.close()"
   ]
  },
  {
   "cell_type": "code",
   "execution_count": 6,
   "metadata": {},
   "outputs": [],
   "source": [
    "x_space = np.arange(20,100,5)\n",
    "y_space = [70]\n",
    "dia_column = [10,11,12]\n",
    "deflection_1 = np.zeros(shape=(len(x_space), len(y_space), len(dia_column)))\n",
    "Tz = np.zeros(shape=(len(x_space), len(y_space), len(dia_column)))\n",
    "Significant_Amplitude = np.zeros(shape=(len(x_space), len(y_space), len(dia_column)))\n",
    "N_mpm = np.zeros(shape=(len(x_space), len(y_space), len(dia_column)))\n",
    "MPM = np.zeros(shape=(len(x_space), len(y_space), len(dia_column)))\n",
    "response = np.zeros(shape=(len(x_space), len(y_space), len(dia_column), len(f)))\n",
    "total_mass_1 = np.zeros(shape=(len(x_space), len(y_space), len(dia_column)))"
   ]
  },
  {
   "cell_type": "code",
   "execution_count": 7,
   "metadata": {},
   "outputs": [],
   "source": [
    "x_space = [20,25,30,35,40,45,50,55,60,65,70]\n",
    "y_space = [90]\n",
    "dia_column = [10,11,12]\n"
   ]
  },
  {
   "cell_type": "code",
   "execution_count": 8,
   "metadata": {},
   "outputs": [],
   "source": [
    "deflection = np.zeros(shape=(3,len(x_space)))\n",
    "Tz = np.zeros(shape=(3, len(x_space), 3, 8))\n",
    "Significant_Amplitude = np.zeros(shape=(3, len(x_space), 3, 8))\n",
    "N_mpm = np.zeros(shape=(3, len(x_space), 3, 8))\n",
    "MPM = np.zeros(shape=(3, len(x_space), 3, 8))\n",
    "response = np.zeros(shape=(3, len(x_space), 3, len(f), 8))\n",
    "total_mass = np.zeros(shape=(3,len(x_space)))"
   ]
  },
  {
   "cell_type": "code",
   "execution_count": 9,
   "metadata": {},
   "outputs": [],
   "source": [
    "f_rated = 850e3"
   ]
  },
  {
   "cell_type": "code",
   "execution_count": 10,
   "metadata": {},
   "outputs": [],
   "source": [
    "env = Environment()\n",
    "rho = Density()"
   ]
  },
  {
   "cell_type": "code",
   "execution_count": 11,
   "metadata": {},
   "outputs": [],
   "source": [
    "deflection = np.zeros(shape=(len(x_space),len(y_space),len(dia_column)))"
   ]
  },
  {
   "cell_type": "code",
   "execution_count": 12,
   "metadata": {},
   "outputs": [
    {
     "name": "stdout",
     "output_type": "stream",
     "text": [
      "-865422608.999125\n",
      "-789161161.4823686\n",
      "-703698662.110494\n",
      "-747002438.6757456\n",
      "-645872755.3910795\n",
      "-533173616.8448277\n",
      "-602266674.9471709\n",
      "-470742481.27950406\n",
      "-324754117.0756801\n",
      "-431215317.81340075\n",
      "-263770339.1476421\n",
      "-78440162.803051\n",
      "-233848367.27443498\n",
      "-24956328.99549362\n",
      "205768245.97305948\n",
      "-10165823.330273861\n",
      "245699549.17694128\n",
      "527871109.2526515\n",
      "239832314.01908275\n",
      "548197295.3696629\n",
      "887868427.0357248\n",
      "516146044.77363455\n",
      "882536909.5826702\n",
      "1285760199.322279\n",
      "818775368.9333817\n",
      "1248718391.8159642\n",
      "1721546426.1123154\n",
      "1147720286.4983249\n",
      "1646741742.069545\n",
      "2195227107.405833\n",
      "1502980797.4684627\n",
      "2076606960.3434122\n",
      "2706802243.202832\n"
     ]
    }
   ],
   "source": [
    "for x, ii in enumerate(x_space):\n",
    "    for y, jj in enumerate(y_space):\n",
    "        for z, kk in enumerate(dia_column):\n",
    "            floater = FloaterParameters(ii,jj,kk)\n",
    "            csa = Area(floater)\n",
    "            buoy = Buoy(floater, csa, rho)\n",
    "            mass = Mass(floater, csa, buoy, rho)\n",
    "            coord = GeneralisedCoordinateSystem(floater, csa, mass, rho, buoy, env)\n",
    "            matrix = MatrixCalculation(coord, mass, floater, rho, env, csa, buoy)\n",
    "            deflection[x,y,z] = ((floater.hub_height*f_rated*2)/matrix.stiffness[4,4])*(180/np.pi)\n",
    "            print(matrix.stiffness[4,4])"
   ]
  },
  {
   "cell_type": "code",
   "execution_count": 16,
   "metadata": {},
   "outputs": [],
   "source": [
    "y_space = [90]\n",
    "dia_column = [11]"
   ]
  },
  {
   "cell_type": "code",
   "execution_count": 17,
   "metadata": {},
   "outputs": [],
   "source": [
    "for x, ii in enumerate(x_space):\n",
    "    for y, jj in enumerate(y_space):\n",
    "        for z, kk in enumerate(dia_column):\n",
    "            _, _, _, MPM, _, _ = OptimizationProblem(ii, jj, kk)"
   ]
  },
  {
   "cell_type": "code",
   "execution_count": 18,
   "metadata": {},
   "outputs": [
    {
     "data": {
      "text/plain": [
       "3.0586793551064737"
      ]
     },
     "execution_count": 18,
     "metadata": {},
     "output_type": "execute_result"
    }
   ],
   "source": [
    "((floater.hub_height*f_rated*2)/matrix.stiffness[4,4])*(180/np.pi)"
   ]
  },
  {
   "cell_type": "code",
   "execution_count": 19,
   "metadata": {},
   "outputs": [
    {
     "data": {
      "text/plain": [
       "2706802243.202832"
      ]
     },
     "execution_count": 19,
     "metadata": {},
     "output_type": "execute_result"
    }
   ],
   "source": [
    "matrix.stiffness[4,4]"
   ]
  },
  {
   "cell_type": "code",
   "execution_count": 20,
   "metadata": {},
   "outputs": [
    {
     "data": {
      "text/plain": [
       "array([[[  -9.56670193,  -10.49119058,  -11.76532028]],\n",
       "\n",
       "       [[ -11.08328395,  -12.81868614,  -15.52822547]],\n",
       "\n",
       "       [[ -13.74680102,  -17.58762055,  -25.49387276]],\n",
       "\n",
       "       [[ -19.1997821 ,  -31.38806344, -105.54848236]],\n",
       "\n",
       "       [[ -35.40431022, -331.74911828,   40.23575212]],\n",
       "\n",
       "       [[-814.41904612,   33.69660289,   15.68420774]],\n",
       "\n",
       "       [[  34.52095341,   15.10266506,    9.32485027]],\n",
       "\n",
       "       [[  16.04049905,    9.38118287,    6.43917905]],\n",
       "\n",
       "       [[  10.11173571,    6.63018996,    4.80918784]],\n",
       "\n",
       "       [[   7.21363928,    5.0276494 ,    3.77147317]],\n",
       "\n",
       "       [[   5.50854685,    3.98690763,    3.05867936]]])"
      ]
     },
     "execution_count": 20,
     "metadata": {},
     "output_type": "execute_result"
    }
   ],
   "source": [
    "deflection"
   ]
  },
  {
   "cell_type": "code",
   "execution_count": 21,
   "metadata": {},
   "outputs": [
    {
     "data": {
      "text/plain": [
       "(0, 100)"
      ]
     },
     "execution_count": 21,
     "metadata": {},
     "output_type": "execute_result"
    },
    {
     "data": {
      "image/png": "[encoded data removed]",
      "text/plain": [
       "<Figure size 432x288 with 1 Axes>"
      ]
     },
     "metadata": {
      "needs_background": "light"
     },
     "output_type": "display_data"
    }
   ],
   "source": [
    "plt.plot(x_space,deflection[:,0,0])\n",
    "plt.ylim(0,100)"
   ]
  },
  {
   "cell_type": "code",
   "execution_count": null,
   "metadata": {},
   "outputs": [],
   "source": [
    "fig, ax1 = plt.subplots()\n",
    "\n",
    "ax2 = ax1.twinx()\n",
    "ax1.plot(x_space, deflection[x,:],'g', label=\"Pitch Deflection\")\n",
    "ax2.plot(x_space, total_mass[x,:],'b', label=\"Mass\")\n",
    "ax2.plot(x_call, weight,'*r',markersize=10, label=\"Optimization Evaluations\")\n",
    "ax1.axhline(y=10, color='m', linestyle='--', linewidth=2, label=\"Pitch Constraint\")\n",
    "ax1.axvline(x=x_call[-1], color='c', linestyle='--', linewidth=2, label=\"Optimization Solution\")\n",
    "\n",
    "ax1.set_xlabel('X Column Separation')\n",
    "ax1.set_ylabel('Pitch Rotation [Deg]', color='g')\n",
    "ax1.set_ylim([-15,15])\n",
    "ax2.set_ylabel('Mass [kg]', color='b')\n",
    "ax2.ticklabel_format(axis=\"y\", style=\"sci\", scilimits=(0, 0))\n",
    "\n",
    "ax1.grid(b=True, which='both', axis='both')\n",
    "ax1.legend(loc=\"lower right\")\n",
    "ax2.legend(loc='best')\n",
    "fig.show()"
   ]
  },
  {
   "cell_type": "code",
   "execution_count": null,
   "metadata": {},
   "outputs": [],
   "source": [
    "plt.rcParams.update({'font.size': 15})\n",
    "plt.rcParams[\"figure.figsize\"] = (10, 10)\n",
    "fig, axs = plt.subplots(1)\n",
    "for x, ii in enumerate(dia_column):\n",
    "    axs.plot(x_space, deflection[x,:], label = \"Column Diameter = %d m\"  %ii)\n",
    "axs.set(ylabel='Pitch Rotation [deg]')\n",
    "axs.set(xlabel='X-Axis Column Separation [m]')\n",
    "axs.legend(loc=\"lower right\")\n",
    "axs.grid(b=True, which='both', axis='both')\n",
    "axs.set(ylim=(-20,20))\n",
    "axs.set(xlim=(20,95))"
   ]
  },
  {
   "cell_type": "code",
   "execution_count": null,
   "metadata": {},
   "outputs": [],
   "source": [
    "plt.rcParams.update({'font.size': 15})\n",
    "plt.rcParams[\"figure.figsize\"] = (20, 10)\n",
    "fig, axs = plt.subplots(1, 2)\n",
    "for x, ii in enumerate(dia_column):\n",
    "    axs[0].plot(x_space, deflection[x,:], label = \"Column Diameter = %d m\"  %ii)\n",
    "    axs[1].plot(x_space, total_mass[x,:], label = \"Column Diameter = %d m\"  %ii)\n",
    "axs[0].set(ylabel='Pitch Rotation [deg]')\n",
    "axs[0].set(xlabel='X-Axis Column Separation [m]')\n",
    "axs[0].legend(loc=\"lower right\")\n",
    "axs[0].grid(b=True, which='both', axis='both')\n",
    "axs[0].set(ylim=(-20,20))\n",
    "axs[0].set(xlim=(20,95))\n",
    "axs[1].ticklabel_format(axis=\"y\", style=\"sci\", scilimits=(0, 0))\n",
    "axs[1].legend(loc=\"lower right\")\n",
    "axs[1].set(ylim=(4e6,7e6))\n",
    "axs[1].set(xlim=(20,95))\n",
    "axs[1].grid(b=True, which='both', axis='both')\n",
    "axs[1].set(ylabel = 'Total Weight [kg]')\n",
    "axs[1].set(xlabel = 'X-Axis Column Separation [m]')"
   ]
  },
  {
   "cell_type": "code",
   "execution_count": null,
   "metadata": {},
   "outputs": [],
   "source": [
    "plt.plot(x_space, total_mass[1,:])\n",
    "plt.ticklabel_format(axis=\"y\", style=\"sci\", scilimits=(0, 0))\n",
    "plt.grid(b=True, which='both', axis='both')\n",
    "plt.ylabel('Total Weight [kg]')\n",
    "plt.xlabel('X-Axis Column Separation [m]')"
   ]
  },
  {
   "cell_type": "code",
   "execution_count": null,
   "metadata": {},
   "outputs": [],
   "source": []
  },
  {
   "cell_type": "code",
   "execution_count": null,
   "metadata": {},
   "outputs": [],
   "source": []
  },
  {
   "cell_type": "code",
   "execution_count": null,
   "metadata": {},
   "outputs": [],
   "source": []
  },
  {
   "cell_type": "code",
   "execution_count": null,
   "metadata": {},
   "outputs": [],
   "source": [
    "def objective(x_space):\n",
    "    _,_, _, _, _, _, mass = OptimizationProblem(x_space, 70, 12)\n",
    "    print(mass)\n",
    "    return mass\n",
    "def constraint1(x_space):\n",
    "    pitch,_, _, _, _, _, _ = OptimizationProblem(x_space, 70, 12)\n",
    "    #print(- pitch + 10)\n",
    "    return - pitch + 10\n",
    "con1 = [{'type':'ineq', 'fun':constraint1}]\n",
    "x0 = 60.0\n",
    "sol = minimize(objective,x0,method='SLSQP', constraints=cons)"
   ]
  }
 ],
 "metadata": {
  "kernelspec": {
   "display_name": "Python 3",
   "language": "python",
   "name": "python3"
  },
  "language_info": {
   "codemirror_mode": {
    "name": "ipython",
    "version": 3
   },
   "file_extension": ".py",
   "mimetype": "text/x-python",
   "name": "python",
   "nbconvert_exporter": "python",
   "pygments_lexer": "ipython3",
   "version": "3.7.6"
  }
 },
 "nbformat": 4,
 "nbformat_minor": 4
}
