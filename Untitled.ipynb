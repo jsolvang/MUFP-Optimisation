{
 "cells": [
  {
   "cell_type": "code",
   "execution_count": 1,
   "metadata": {},
   "outputs": [],
   "source": [
    "import numpy as np\n",
    "import pickle"
   ]
  },
  {
   "cell_type": "code",
   "execution_count": 2,
   "metadata": {},
   "outputs": [],
   "source": [
    "x_space = [55]\n",
    "y_space = [70]\n",
    "dia_column = [12]"
   ]
  },
  {
   "cell_type": "code",
   "execution_count": 6,
   "metadata": {},
   "outputs": [
    {
     "data": {
      "text/plain": [
       "55"
      ]
     },
     "execution_count": 6,
     "metadata": {},
     "output_type": "execute_result"
    }
   ],
   "source": [
    "x_space[0]"
   ]
  },
  {
   "cell_type": "code",
   "execution_count": 3,
   "metadata": {},
   "outputs": [
    {
     "ename": "TypeError",
     "evalue": "unsupported operand type(s) for /: 'list' and 'int'",
     "output_type": "error",
     "traceback": [
      "\u001b[1;31m---------------------------------------------------------------------------\u001b[0m",
      "\u001b[1;31mTypeError\u001b[0m                                 Traceback (most recent call last)",
      "\u001b[1;32m<ipython-input-3-2bfc7b122b77>\u001b[0m in \u001b[0;36m<module>\u001b[1;34m\u001b[0m\n\u001b[1;32m----> 1\u001b[1;33m pull = np.array([[np.ceil(x_space / 10) * 10, np.ceil(y_space / 10) * 10,\n\u001b[0m\u001b[0;32m      2\u001b[0m                   np.ceil(dia_column)],\n\u001b[0;32m      3\u001b[0m                  [np.floor(x_space / 10) * 10, np.floor(y_space / 10) * 10,\n\u001b[0;32m      4\u001b[0m                   np.floor(dia_column)]])\n\u001b[0;32m      5\u001b[0m \u001b[0mresults\u001b[0m \u001b[1;33m=\u001b[0m \u001b[1;33m[\u001b[0m\u001b[1;33m]\u001b[0m\u001b[1;33m\u001b[0m\u001b[1;33m\u001b[0m\u001b[0m\n",
      "\u001b[1;31mTypeError\u001b[0m: unsupported operand type(s) for /: 'list' and 'int'"
     ]
    }
   ],
   "source": [
    "pull = np.array([[np.ceil(x_space / 10) * 10, np.ceil(y_space / 10) * 10,\n",
    "                  np.ceil(dia_column)],\n",
    "                 [np.floor(x_space / 10) * 10, np.floor(y_space / 10) * 10,\n",
    "                  np.floor(dia_column)]])\n",
    "results = []\n",
    "\n",
    "for i in np.linspace(0, len(pull[:, 1]) - 1, 3).astype(int):\n",
    "    file_loc = r'C:\\Users\\Joar\\Documents\\1_Education\\NTNU\\pickle_files'\n",
    "    file_name = \"\\sim_x_%d_y_%d_D%d\" % (pull[i, 0], pull[i, 1], pull[i, 2])\n",
    "    file_path = file_loc + file_name\n",
    "    infile = open(file_path, 'rb')\n",
    "    results.append(pickle.load(infile))\n",
    "    infile.close()\n",
    "\n",
    "    added_mass = np.zeros(shape=(84, 6, 6))\n",
    "    damping = np.zeros(shape=(84, 6, 6))"
   ]
  },
  {
   "cell_type": "code",
   "execution_count": null,
   "metadata": {},
   "outputs": [],
   "source": [
    "for nn in np.linspace(0, int(results[1].numwavelengths) - 1, int(results[1].numwavelengths)).astype(int):\n",
    "    for mm in np.linspace(0, 5, 6).astype(int):\n",
    "        for kk in np.linspace(0, 5, 6).astype(int):\n",
    "            added_mass[nn, mm, kk] += np.interp(x_space,\n",
    "                                                [pull[0, 0], pull[1, 0]],\n",
    "                                                [results[0].ADDEDMASS[nn, mm, kk],\n",
    "                                                 results[1].ADDEDMASS[nn, mm, kk]])\n",
    "            damping[nn, mm, kk] += np.interp(x_space,\n",
    "                                             [pull[0, 0], pull[1, 0]],\n",
    "                                             [results[0].DAMPING[nn, mm, kk],\n",
    "                                              results[1].DAMPING[nn, mm, kk]])"
   ]
  },
  {
   "cell_type": "code",
   "execution_count": 4,
   "metadata": {},
   "outputs": [
    {
     "ename": "NameError",
     "evalue": "name 'pull' is not defined",
     "output_type": "error",
     "traceback": [
      "\u001b[1;31m---------------------------------------------------------------------------\u001b[0m",
      "\u001b[1;31mNameError\u001b[0m                                 Traceback (most recent call last)",
      "\u001b[1;32m<ipython-input-4-fcaf4b8daf6b>\u001b[0m in \u001b[0;36m<module>\u001b[1;34m\u001b[0m\n\u001b[1;32m----> 1\u001b[1;33m \u001b[0mpull\u001b[0m\u001b[1;33m.\u001b[0m\u001b[0mshape\u001b[0m\u001b[1;33m\u001b[0m\u001b[1;33m\u001b[0m\u001b[0m\n\u001b[0m",
      "\u001b[1;31mNameError\u001b[0m: name 'pull' is not defined"
     ]
    }
   ],
   "source": [
    "pull.shape"
   ]
  },
  {
   "cell_type": "code",
   "execution_count": null,
   "metadata": {},
   "outputs": [],
   "source": [
    "pull[0,0]"
   ]
  },
  {
   "cell_type": "code",
   "execution_count": null,
   "metadata": {},
   "outputs": [],
   "source": []
  }
 ],
 "metadata": {
  "kernelspec": {
   "display_name": "Python 3",
   "language": "python",
   "name": "python3"
  },
  "language_info": {
   "codemirror_mode": {
    "name": "ipython",
    "version": 3
   },
   "file_extension": ".py",
   "mimetype": "text/x-python",
   "name": "python",
   "nbconvert_exporter": "python",
   "pygments_lexer": "ipython3",
   "version": "3.7.6"
  }
 },
 "nbformat": 4,
 "nbformat_minor": 4
}
