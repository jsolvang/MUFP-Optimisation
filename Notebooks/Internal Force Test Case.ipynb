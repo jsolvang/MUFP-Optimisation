{
 "cells": [
  {
   "cell_type": "code",
   "execution_count": 1,
   "metadata": {},
   "outputs": [],
   "source": [
    "import pandas as pd\n",
    "import numpy as np\n",
    "import matplotlib.pyplot as plt\n",
    "import pickle \n",
    "import sys\n",
    "import seaborn as sb\n",
    "import math\n",
    "from scipy import interpolate\n",
    "from scipy import linalg\n",
    "from numpy import random\n",
    "from scipy.signal import find_peaks\n",
    "sys.path.append(r'C:\\Users\\Joar\\Documents\\1_Education\\NTNU\\OneDrive - NTNU\\Thesis\\Modelling\\FD Model')"
   ]
  },
  {
   "cell_type": "code",
   "execution_count": 2,
   "metadata": {},
   "outputs": [],
   "source": [
    "from FloaterParameters import FloaterParameters\n",
    "from Environment import Environment\n",
    "from Buoy import Buoy\n",
    "from Mass import Mass\n",
    "from Density import Density\n",
    "from Area import Area\n",
    "from GeneralisedCoordinateSystem import GeneralisedCoordinateSystem\n",
    "from SystemMatrices import MatrixCalculation\n",
    "from kSolve import ksolve\n",
    "from OptimizationProblem import OptimizationProblem\n",
    "from SpectrumStatistics import spectrum_response_statistics, spectrum_response\n",
    "from jonswap import jonswap\n",
    "from RAO_Calculation import calulate_RAOs, calculate_column_raos\n",
    "from SpectrumStatistics import spectrum_response_statistics, spectrum_response, spectrum_response_statistics_single\n",
    "from InterpolateHydroDResults import InterpolateResults\n",
    "from InterpolatePanelPressure import interpolate_panel_pressure\n",
    "from InternalForceCalculation import InternalForces\n",
    "from plot_code import sub_plots, sub_plots_spectrums\n",
    "from WindForceSpectrum import WindForceSpectrum\n",
    "from ReadWadamLis import ReadWadamLis"
   ]
  },
  {
   "cell_type": "code",
   "execution_count": 3,
   "metadata": {},
   "outputs": [],
   "source": [
    "plt.rcParams['axes.grid'] = True\n",
    "plt.rcParams[\"figure.figsize\"] = (15, 5)\n",
    "plt.rcParams.update({'font.size': 15})\n",
    "plt.rcParams['font.family'] = 'serif' "
   ]
  },
  {
   "cell_type": "code",
   "execution_count": 4,
   "metadata": {},
   "outputs": [],
   "source": [
    "# Pulling simulation results\n",
    "pull = np.array([60,80,12,14])\n",
    "# Hand Calculations\n",
    "mufp = FloaterParameters(pull[0], pull[1], pull[2], pull[3])\n",
    "env = Environment()\n",
    "rho = Density()\n",
    "csa = Area(mufp)\n",
    "buoy = Buoy(mufp, csa, rho)\n",
    "mass = Mass(mufp, csa, buoy, rho)\n",
    "coord = GeneralisedCoordinateSystem(mufp, csa, mass, rho, buoy, env)\n",
    "matrix = MatrixCalculation(coord, mass, mufp, rho, env, csa, buoy)\n",
    "matrix.stiffness[0, 0] = 1e6\n",
    "matrix.stiffness[1, 1] = 1e6\n",
    "matrix.stiffness[5, 5] = 1e9"
   ]
  },
  {
   "cell_type": "markdown",
   "metadata": {},
   "source": [
    "# Code Switches"
   ]
  },
  {
   "cell_type": "code",
   "execution_count": 5,
   "metadata": {},
   "outputs": [],
   "source": [
    "run = 1"
   ]
  },
  {
   "cell_type": "markdown",
   "metadata": {},
   "source": [
    "# Pulling HydroD simulation"
   ]
  },
  {
   "cell_type": "code",
   "execution_count": 6,
   "metadata": {},
   "outputs": [],
   "source": [
    "path = r'C:\\DNVGL\\Workspaces\\HydroD\\fixed_motion\\WadamRun1'\n",
    "reflection = 0\n",
    "sectional_loads = 1\n",
    "fixed = 0"
   ]
  },
  {
   "cell_type": "code",
   "execution_count": 7,
   "metadata": {
    "scrolled": false
   },
   "outputs": [],
   "source": [
    "file_name = \"\\\\free_motion\"\n",
    "\n",
    "if run == 1:\n",
    "    file_loc = r'C:\\Users\\Joar\\Documents\\1_Education\\NTNU\\pickle_files'\n",
    "    file_path = file_loc + file_name\n",
    "    matrix = MatrixCalculation(coord, mass, mufp, rho, env, csa, buoy)\n",
    "    hydrod_loads = ReadWadamLis(r'C:\\DNVGL\\Workspaces\\HydroD\\free_motion\\WadamRun1', sectional_loads, reflection, fixed)\n",
    "    file_sim = open(file_path, 'wb') \n",
    "    pickle.dump(hydrod_loads, file_sim)\n",
    "    file_sim.close()\n",
    "else:\n",
    "    file_loc = r'C:\\Users\\Joar\\Documents\\1_Education\\NTNU\\pickle_files'\n",
    "    file_path = file_loc + file_name\n",
    "    infile = open(file_path, 'rb')\n",
    "    hydrod_loads = pickle.load(infile)\n",
    "    infile.close()"
   ]
  },
  {
   "cell_type": "code",
   "execution_count": 8,
   "metadata": {},
   "outputs": [],
   "source": [
    "dof = 2\n",
    "sec = 0\n",
    "ylim = 0"
   ]
  },
  {
   "cell_type": "code",
   "execution_count": 9,
   "metadata": {},
   "outputs": [
    {
     "data": {
      "text/plain": [
       "1.5"
      ]
     },
     "execution_count": 9,
     "metadata": {},
     "output_type": "execute_result"
    }
   ],
   "source": [
    "hydrod_loads.wave_disc[40,4]"
   ]
  },
  {
   "cell_type": "code",
   "execution_count": 10,
   "metadata": {},
   "outputs": [
    {
     "data": {
      "text/html": [
       "<div>\n",
       "<style scoped>\n",
       "    .dataframe tbody tr th:only-of-type {\n",
       "        vertical-align: middle;\n",
       "    }\n",
       "\n",
       "    .dataframe tbody tr th {\n",
       "        vertical-align: top;\n",
       "    }\n",
       "\n",
       "    .dataframe thead th {\n",
       "        text-align: right;\n",
       "    }\n",
       "</style>\n",
       "<table border=\"1\" class=\"dataframe\">\n",
       "  <thead>\n",
       "    <tr style=\"text-align: right;\">\n",
       "      <th></th>\n",
       "      <th>0</th>\n",
       "      <th>1</th>\n",
       "      <th>2</th>\n",
       "      <th>3</th>\n",
       "      <th>4</th>\n",
       "      <th>5</th>\n",
       "    </tr>\n",
       "  </thead>\n",
       "  <tbody>\n",
       "    <tr>\n",
       "      <th>0</th>\n",
       "      <td>-128118.567043</td>\n",
       "      <td>-1.111703e+06</td>\n",
       "      <td>480107.094983</td>\n",
       "      <td>-7.585197e+05</td>\n",
       "      <td>8.976544e+05</td>\n",
       "      <td>-3.445210e+07</td>\n",
       "    </tr>\n",
       "    <tr>\n",
       "      <th>1</th>\n",
       "      <td>13.530530</td>\n",
       "      <td>7.416730e-02</td>\n",
       "      <td>3.251533</td>\n",
       "      <td>-5.416573e-02</td>\n",
       "      <td>3.252011e+00</td>\n",
       "      <td>-5.675307e+05</td>\n",
       "    </tr>\n",
       "    <tr>\n",
       "      <th>2</th>\n",
       "      <td>143071.508072</td>\n",
       "      <td>7.496185e+04</td>\n",
       "      <td>190182.532026</td>\n",
       "      <td>1.147965e+05</td>\n",
       "      <td>2.221435e+05</td>\n",
       "      <td>1.859111e+07</td>\n",
       "    </tr>\n",
       "    <tr>\n",
       "      <th>3</th>\n",
       "      <td>-12.569909</td>\n",
       "      <td>-9.323634e+01</td>\n",
       "      <td>-16.590417</td>\n",
       "      <td>-9.747788e+01</td>\n",
       "      <td>9.888177e+01</td>\n",
       "      <td>-5.953696e+09</td>\n",
       "    </tr>\n",
       "    <tr>\n",
       "      <th>4</th>\n",
       "      <td>-83026.757660</td>\n",
       "      <td>-5.391900e+06</td>\n",
       "      <td>736774.357616</td>\n",
       "      <td>-4.847190e+06</td>\n",
       "      <td>4.902868e+06</td>\n",
       "      <td>-4.860453e+09</td>\n",
       "    </tr>\n",
       "    <tr>\n",
       "      <th>5</th>\n",
       "      <td>-135.382960</td>\n",
       "      <td>-5.928366e-01</td>\n",
       "      <td>-25.309481</td>\n",
       "      <td>2.926726e+00</td>\n",
       "      <td>2.547855e+01</td>\n",
       "      <td>1.035893e+10</td>\n",
       "    </tr>\n",
       "  </tbody>\n",
       "</table>\n",
       "</div>"
      ],
      "text/plain": [
       "               0             1              2             3             4  \\\n",
       "0 -128118.567043 -1.111703e+06  480107.094983 -7.585197e+05  8.976544e+05   \n",
       "1      13.530530  7.416730e-02       3.251533 -5.416573e-02  3.252011e+00   \n",
       "2  143071.508072  7.496185e+04  190182.532026  1.147965e+05  2.221435e+05   \n",
       "3     -12.569909 -9.323634e+01     -16.590417 -9.747788e+01  9.888177e+01   \n",
       "4  -83026.757660 -5.391900e+06  736774.357616 -4.847190e+06  4.902868e+06   \n",
       "5    -135.382960 -5.928366e-01     -25.309481  2.926726e+00  2.547855e+01   \n",
       "\n",
       "              5  \n",
       "0 -3.445210e+07  \n",
       "1 -5.675307e+05  \n",
       "2  1.859111e+07  \n",
       "3 -5.953696e+09  \n",
       "4 -4.860453e+09  \n",
       "5  1.035893e+10  "
      ]
     },
     "execution_count": 10,
     "metadata": {},
     "output_type": "execute_result"
    }
   ],
   "source": [
    "pd.DataFrame(hydrod_loads.secloads[0,40,0,:,:])"
   ]
  },
  {
   "cell_type": "markdown",
   "metadata": {},
   "source": [
    "# Changes to code means no turbine mass, ballasting increased to account for loss of mass"
   ]
  },
  {
   "cell_type": "code",
   "execution_count": 11,
   "metadata": {},
   "outputs": [
    {
     "data": {
      "text/html": [
       "<div>\n",
       "<style scoped>\n",
       "    .dataframe tbody tr th:only-of-type {\n",
       "        vertical-align: middle;\n",
       "    }\n",
       "\n",
       "    .dataframe tbody tr th {\n",
       "        vertical-align: top;\n",
       "    }\n",
       "\n",
       "    .dataframe thead th {\n",
       "        text-align: right;\n",
       "    }\n",
       "</style>\n",
       "<table border=\"1\" class=\"dataframe\">\n",
       "  <thead>\n",
       "    <tr style=\"text-align: right;\">\n",
       "      <th></th>\n",
       "      <th>x</th>\n",
       "      <th>y</th>\n",
       "      <th>z</th>\n",
       "      <th>Mass [kg]</th>\n",
       "    </tr>\n",
       "    <tr>\n",
       "      <th>Component</th>\n",
       "      <th></th>\n",
       "      <th></th>\n",
       "      <th></th>\n",
       "      <th></th>\n",
       "    </tr>\n",
       "  </thead>\n",
       "  <tbody>\n",
       "    <tr>\n",
       "      <th>Front Ballast</th>\n",
       "      <td>0</td>\n",
       "      <td>0.00</td>\n",
       "      <td>-13.798929</td>\n",
       "      <td>1.073863e+06</td>\n",
       "    </tr>\n",
       "    <tr>\n",
       "      <th>Back Left Ballast</th>\n",
       "      <td>-60</td>\n",
       "      <td>-40.00</td>\n",
       "      <td>-13.798929</td>\n",
       "      <td>1.073863e+06</td>\n",
       "    </tr>\n",
       "    <tr>\n",
       "      <th>Back Right Ballast</th>\n",
       "      <td>-60</td>\n",
       "      <td>40.00</td>\n",
       "      <td>-13.798929</td>\n",
       "      <td>1.073863e+06</td>\n",
       "    </tr>\n",
       "    <tr>\n",
       "      <th>Front Column</th>\n",
       "      <td>0</td>\n",
       "      <td>0.00</td>\n",
       "      <td>-0.500000</td>\n",
       "      <td>5.801958e+05</td>\n",
       "    </tr>\n",
       "    <tr>\n",
       "      <th>Back Left Column</th>\n",
       "      <td>-60</td>\n",
       "      <td>-40.00</td>\n",
       "      <td>-0.500000</td>\n",
       "      <td>5.801958e+05</td>\n",
       "    </tr>\n",
       "    <tr>\n",
       "      <th>Back Right Column</th>\n",
       "      <td>-60</td>\n",
       "      <td>40.00</td>\n",
       "      <td>-0.500000</td>\n",
       "      <td>5.801958e+05</td>\n",
       "    </tr>\n",
       "    <tr>\n",
       "      <th>Front Heave Plate</th>\n",
       "      <td>0</td>\n",
       "      <td>0.00</td>\n",
       "      <td>-13.000000</td>\n",
       "      <td>3.810648e+05</td>\n",
       "    </tr>\n",
       "    <tr>\n",
       "      <th>Back Left Heave Plate</th>\n",
       "      <td>-60</td>\n",
       "      <td>-40.00</td>\n",
       "      <td>-13.000000</td>\n",
       "      <td>3.810648e+05</td>\n",
       "    </tr>\n",
       "    <tr>\n",
       "      <th>Back Right Heave Plate</th>\n",
       "      <td>-60</td>\n",
       "      <td>40.00</td>\n",
       "      <td>-13.000000</td>\n",
       "      <td>3.810648e+05</td>\n",
       "    </tr>\n",
       "    <tr>\n",
       "      <th>Left RNA</th>\n",
       "      <td>-60</td>\n",
       "      <td>-71.05</td>\n",
       "      <td>85.000000</td>\n",
       "      <td>0.000000e+00</td>\n",
       "    </tr>\n",
       "    <tr>\n",
       "      <th>Right RNA</th>\n",
       "      <td>-60</td>\n",
       "      <td>71.05</td>\n",
       "      <td>85.000000</td>\n",
       "      <td>0.000000e+00</td>\n",
       "    </tr>\n",
       "    <tr>\n",
       "      <th>Left Tower</th>\n",
       "      <td>-60</td>\n",
       "      <td>-53.50</td>\n",
       "      <td>36.956522</td>\n",
       "      <td>0.000000e+00</td>\n",
       "    </tr>\n",
       "    <tr>\n",
       "      <th>Right Tower</th>\n",
       "      <td>-60</td>\n",
       "      <td>53.50</td>\n",
       "      <td>36.956522</td>\n",
       "      <td>0.000000e+00</td>\n",
       "    </tr>\n",
       "  </tbody>\n",
       "</table>\n",
       "</div>"
      ],
      "text/plain": [
       "                         x      y          z     Mass [kg]\n",
       "Component                                                 \n",
       "Front Ballast            0   0.00 -13.798929  1.073863e+06\n",
       "Back Left Ballast      -60 -40.00 -13.798929  1.073863e+06\n",
       "Back Right Ballast     -60  40.00 -13.798929  1.073863e+06\n",
       "Front Column             0   0.00  -0.500000  5.801958e+05\n",
       "Back Left Column       -60 -40.00  -0.500000  5.801958e+05\n",
       "Back Right Column      -60  40.00  -0.500000  5.801958e+05\n",
       "Front Heave Plate        0   0.00 -13.000000  3.810648e+05\n",
       "Back Left Heave Plate  -60 -40.00 -13.000000  3.810648e+05\n",
       "Back Right Heave Plate -60  40.00 -13.000000  3.810648e+05\n",
       "Left RNA               -60 -71.05  85.000000  0.000000e+00\n",
       "Right RNA              -60  71.05  85.000000  0.000000e+00\n",
       "Left Tower             -60 -53.50  36.956522  0.000000e+00\n",
       "Right Tower            -60  53.50  36.956522  0.000000e+00"
      ]
     },
     "execution_count": 11,
     "metadata": {},
     "output_type": "execute_result"
    }
   ],
   "source": [
    "coord.mass_df[['x','y','z', 'Mass [kg]']]"
   ]
  },
  {
   "cell_type": "markdown",
   "metadata": {},
   "source": [
    "# Calculate necessary steel thickness for GeniE"
   ]
  },
  {
   "cell_type": "code",
   "execution_count": 12,
   "metadata": {},
   "outputs": [
    {
     "name": "stdout",
     "output_type": "stream",
     "text": [
      "0.4721426470588231\n"
     ]
    }
   ],
   "source": [
    "h = coord.mass_df.loc['Front Ballast','Mass [kg]']/(np.pi*10**2*8500)\n",
    "h += 0.07\n",
    "print(h)"
   ]
  }
 ],
 "metadata": {
  "kernelspec": {
   "display_name": "Python 3",
   "language": "python",
   "name": "python3"
  },
  "language_info": {
   "codemirror_mode": {
    "name": "ipython",
    "version": 3
   },
   "file_extension": ".py",
   "mimetype": "text/x-python",
   "name": "python",
   "nbconvert_exporter": "python",
   "pygments_lexer": "ipython3",
   "version": "3.7.6"
  }
 },
 "nbformat": 4,
 "nbformat_minor": 4
}
