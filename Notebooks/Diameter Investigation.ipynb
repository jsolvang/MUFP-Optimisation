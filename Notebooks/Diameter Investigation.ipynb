{
 "cells": [
  {
   "cell_type": "code",
   "execution_count": 1,
   "metadata": {},
   "outputs": [],
   "source": [
    "import sys\n",
    "import matplotlib.pyplot as plt\n",
    "from matplotlib import cm\n",
    "from matplotlib.ticker import LinearLocator\n",
    "import pandas as pd\n",
    "import numpy as np\n",
    "sys.path.append(r'C:\\Users\\Joar\\Documents\\1_Education\\NTNU\\OneDrive - NTNU\\Thesis\\Modelling\\FD Model')\n",
    "import time\n",
    "import pickle\n",
    "from scipy.optimize import minimize"
   ]
  },
  {
   "cell_type": "code",
   "execution_count": 2,
   "metadata": {},
   "outputs": [],
   "source": [
    "#from OptimizationProblem_headangle import OptimizationProblem\n",
    "from Design_Exploration import OptimizationProblem\n",
    "from WindForceSpectrum import WindForceSpectrum\n",
    "from scipy import interpolate\n",
    "from plot_hydroD_results import plot_hydroD_results\n",
    "from FloaterParameters import FloaterParameters\n",
    "from Environment import Environment\n",
    "from Buoy import Buoy\n",
    "from Mass import Mass\n",
    "from Density import Density\n",
    "from Area import Area\n",
    "from GlobalCoordinateSystem import GlobalCoordinateSystem\n",
    "from SystemMatrices import MatrixCalculation\n",
    "from WindForceSpectrum import WindForceSpectrum\n",
    "from WaveSpectrumAnalysis import wavespectrumanalysis\n",
    "from scipy import interpolate\n",
    "from InterpolateHydroDResults import InterpolateResults\n",
    "from RAO_Calculation import calulate_RAOs\n",
    "from jonswap import jonswap\n",
    "from WindSpectrumAnalysis import windspectrumanalysis\n",
    "from SpectrumStatistics import spectrum_response_statistics\n",
    "from HydroDInterpolation import LinearInterpolate, Interpolate2d, Interpolate4d"
   ]
  },
  {
   "cell_type": "code",
   "execution_count": 3,
   "metadata": {},
   "outputs": [],
   "source": [
    "plt.rcParams['axes.grid'] = True\n",
    "plt.rcParams[\"figure.figsize\"] = (15, 5)\n",
    "plt.rcParams.update({'font.size': 15})\n",
    "plt.rcParams['font.family'] = 'serif' "
   ]
  },
  {
   "cell_type": "code",
   "execution_count": 4,
   "metadata": {},
   "outputs": [],
   "source": [
    "dia= np.arange(11.,13.,.1)"
   ]
  },
  {
   "cell_type": "code",
   "execution_count": 5,
   "metadata": {},
   "outputs": [],
   "source": [
    "sa = np.zeros(shape=(len(dia),2,3,8))\n",
    "tz = np.zeros(shape=(len(dia),2,3,8))\n",
    "mpm = np.zeros(shape=(len(dia),2,3,8))\n",
    "rao_wave = np.zeros(shape=(len(dia),2, 3, 28592, 8)) +0j\n",
    "rao_wind = np.zeros(shape=(len(dia),2, 3, 180000, 8)) +0j\n",
    "stiffness = np.zeros(shape=(len(dia),6,6))\n",
    "nat_freq_damped = np.zeros(shape=(len(dia),6))\n",
    "steel_mass = np.zeros(shape=(len(dia),2,3,8))\n",
    "wind_response= np.zeros(shape=(len(dia),3, 180000, 8))"
   ]
  },
  {
   "cell_type": "code",
   "execution_count": 6,
   "metadata": {},
   "outputs": [
    {
     "name": "stdout",
     "output_type": "stream",
     "text": [
      "11.0\n"
     ]
    },
    {
     "name": "stderr",
     "output_type": "stream",
     "text": [
      "C:\\Users\\Joar\\Documents\\1_Education\\NTNU\\OneDrive - NTNU\\Thesis\\Modelling\\FD Model\\SpectrumStatistics.py:51: RuntimeWarning: invalid value encountered in true_divide\n",
      "  Tz[jj, DOF[ii]] = 2 * np.pi * np.sqrt(np.divide(m0[jj, DOF[ii]], m2[jj, DOF[ii]]))\n"
     ]
    },
    {
     "name": "stdout",
     "output_type": "stream",
     "text": [
      "11.1\n",
      "11.2\n",
      "11.299999999999999\n",
      "11.399999999999999\n",
      "11.499999999999998\n",
      "11.599999999999998\n",
      "11.699999999999998\n",
      "11.799999999999997\n",
      "11.899999999999997\n",
      "11.999999999999996\n",
      "12.099999999999996\n",
      "12.199999999999996\n",
      "12.299999999999995\n",
      "12.399999999999995\n",
      "12.499999999999995\n",
      "12.599999999999994\n",
      "12.699999999999994\n",
      "12.799999999999994\n",
      "12.899999999999993\n"
     ]
    }
   ],
   "source": [
    "for jj, y in enumerate(dia):\n",
    "    print(y)\n",
    "    sa[jj,:,:,:], mpm[jj,:,:,:], rao_wave[jj,:,:,:,:], rao_wind[jj,:,:,:,:], stiffness[jj,:,:], nat_freq_damped[jj,:], _, wind_response[jj,:,:,:], tz[jj,:,:,:] = OptimizationProblem(59, 50, y, 8)"
   ]
  },
  {
   "cell_type": "code",
   "execution_count": 16,
   "metadata": {},
   "outputs": [
    {
     "data": {
      "text/plain": [
       "[<matplotlib.lines.Line2D at 0x2138a5f7608>]"
      ]
     },
     "execution_count": 16,
     "metadata": {},
     "output_type": "execute_result"
    },
    {
     "data": {
      "image/png": "[encoded data removed]",
      "text/plain": [
       "<Figure size 1080x360 with 1 Axes>"
      ]
     },
     "metadata": {
      "needs_background": "light"
     },
     "output_type": "display_data"
    }
   ],
   "source": [
    "plt.plot(dia, mpm[:,1,0,3], '-*')\n",
    "#plt.ylim(0,30)"
   ]
  },
  {
   "cell_type": "markdown",
   "metadata": {},
   "source": [
    "# 1. Check Wave Influence"
   ]
  },
  {
   "cell_type": "code",
   "execution_count": 8,
   "metadata": {},
   "outputs": [],
   "source": [
    "def wave_component(x_space, y_space, dia_column, draft):\n",
    "    env = Environment()\n",
    "    rho = Density()\n",
    "    mufp = FloaterParameters(x_space, y_space, dia_column, draft)\n",
    "    csa = Area(mufp)\n",
    "    buoy = Buoy(mufp, csa, rho)\n",
    "    mass = Mass(mufp, csa, buoy, rho)\n",
    "    coord = GlobalCoordinateSystem(mufp, csa, mass, rho, buoy, env)\n",
    "    matrix = MatrixCalculation(coord, mass, mufp, rho, env, csa, buoy)\n",
    "    # Adding artificial stiffness in DOF without any\n",
    "    matrix.stiffness[0, 0] = 1e6\n",
    "    matrix.stiffness[1, 1] = 1e6\n",
    "    matrix.stiffness[5, 5] = 1e9\n",
    "    \n",
    "    Tr = 3 * 3600  # 3 hour return period\n",
    "\n",
    "\n",
    "    # Finding the nearest HydroD simulations for surrogate model\n",
    "    interp_inputs = np.array([[np.floor(x_space / 10) * 10, np.floor(y_space / 10) * 10, np.floor(dia_column), np.floor(draft / 2) * 2],\n",
    "                              [np.floor(x_space / 10) * 10, np.floor(y_space / 10) * 10, np.ceil(dia_column), np.floor(draft / 2) * 2]])#,\n",
    "                              #[np.ceil(x_space / 10) * 10, np.ceil(y_space / 10) * 10, np.floor(dia_column), np.floor(draft / 2) * 2],\n",
    "                              #[np.floor(x_space / 10) * 10, np.ceil(y_space / 10) * 10, np.floor(dia_column), np.floor(draft / 2) * 2],\n",
    "                              #[np.ceil(x_space / 10) * 10, np.floor(y_space / 10) * 10, np.ceil(dia_column), np.ceil(draft / 2) * 2],\n",
    "                              #[np.floor(x_space / 10) * 10, np.floor(y_space / 10) * 10, np.ceil(dia_column), np.ceil(draft / 2) * 2],\n",
    "                              #[np.ceil(x_space / 10) * 10, np.ceil(y_space / 10) * 10, np.ceil(dia_column), np.ceil(draft / 2) * 2],\n",
    "                              #[np.floor(x_space / 10) * 10, np.ceil(y_space / 10) * 10, np.ceil(dia_column), np.ceil(draft / 2) * 2]])\n",
    "\n",
    "    # Interpolating surrogate models to get estimate\n",
    "    design = [x_space, y_space, dia_column, draft]\n",
    "    results = []\n",
    "\n",
    "    for i in np.linspace(0, len(interp_inputs[:, 1]) - 1, len(interp_inputs)).astype(int):\n",
    "        file_loc = r'E:\\pickle_files'\n",
    "        file_name = \"\\sim_x_%d_y_%d_D%d_dr%d\" % (\n",
    "        interp_inputs[i, 0], interp_inputs[i, 1], interp_inputs[i, 2], interp_inputs[i, 3])\n",
    "        file_path = file_loc + file_name\n",
    "        infile = open(file_path, 'rb')\n",
    "        results.append(pickle.load(infile))\n",
    "        infile.close()\n",
    "\n",
    "    sim = LinearInterpolate(results, interp_inputs, design, 2)\n",
    "\n",
    "    # Adding 5% critical damping\n",
    "    if matrix.stiffness[4, 4] > 0 and matrix.stiffness[3, 3] > 0:\n",
    "        sim.DAMPING += (1/20)*2*np.sqrt(matrix.stiffness * (matrix.mass+sim.ADDEDMASS))\n",
    "    else:\n",
    "        print('Negative Stiffness - No Critical Damping')\n",
    "\n",
    "    nat_freq_undamped = np.sqrt(np.diag(matrix.stiffness) / np.diag(matrix.mass + sim.ADDEDMASS[0,:,:]))\n",
    "    nat_freq_damped = nat_freq_undamped*np.sqrt(1-0.05)\n",
    "\n",
    "    # Defining frequencies of interest\n",
    "    f_rad = np.array([1e-7])\n",
    "    df = 1 / 36000\n",
    "    df_rad = (2 * np.pi) * df\n",
    "    f_rad = np.concatenate([f_rad, np.arange(0.01, 5, df_rad)])\n",
    "\n",
    "    # Spectral Moment Analysis\n",
    "    Tz, Significant_Amplitude, N_mpm, MPM, RAO, Y, H, Y_inv = wavespectrumanalysis(sim, matrix, 0, mufp, coord, df_rad,\n",
    "                                                                              f_rad, Tr)\n",
    "    return Tz, Significant_Amplitude, N_mpm, MPM, RAO, Y, H, Y_inv"
   ]
  },
  {
   "cell_type": "code",
   "execution_count": 9,
   "metadata": {},
   "outputs": [],
   "source": [
    "Tz_wave = np.zeros(shape=(len(dia),2,3,8))\n",
    "Significant_Amplitude_wave = np.zeros(shape=(len(dia),2,3,8))\n",
    "N_mpm_wave = np.zeros(shape=(len(dia),2,3,8))\n",
    "MPM_wave = np.zeros(shape=(len(dia),2,3,8))\n",
    "rao_wave = np.zeros(shape=(len(dia),2, 3, 28592, 8)) +0j"
   ]
  },
  {
   "cell_type": "code",
   "execution_count": 10,
   "metadata": {},
   "outputs": [
    {
     "name": "stderr",
     "output_type": "stream",
     "text": [
      "C:\\Users\\Joar\\Documents\\1_Education\\NTNU\\OneDrive - NTNU\\Thesis\\Modelling\\FD Model\\SpectrumStatistics.py:51: RuntimeWarning: invalid value encountered in true_divide\n",
      "  Tz[jj, DOF[ii]] = 2 * np.pi * np.sqrt(np.divide(m0[jj, DOF[ii]], m2[jj, DOF[ii]]))\n"
     ]
    }
   ],
   "source": [
    "for jj, y in enumerate(dia):\n",
    "    Tz_wave[jj,:,:,:], Significant_Amplitude_wave[jj,:,:,:], N_mpm_wave[jj,:,:,:], MPM_wave[jj,:,:,:], rao_wave[jj,:,:,:,:], _, _, _ =  wave_component(59, 50, y, 8)"
   ]
  },
  {
   "cell_type": "code",
   "execution_count": 11,
   "metadata": {},
   "outputs": [
    {
     "data": {
      "text/plain": [
       "[<matplotlib.lines.Line2D at 0x21389e9c588>]"
      ]
     },
     "execution_count": 11,
     "metadata": {},
     "output_type": "execute_result"
    },
    {
     "data": {
      "image/png": "[encoded data removed]",
      "text/plain": [
       "<Figure size 1080x360 with 1 Axes>"
      ]
     },
     "metadata": {
      "needs_background": "light"
     },
     "output_type": "display_data"
    }
   ],
   "source": [
    "plt.plot(dia, MPM_wave[:,1,0,3], '-*')\n",
    "#plt.ylim(0,30)"
   ]
  },
  {
   "cell_type": "code",
   "execution_count": 12,
   "metadata": {},
   "outputs": [],
   "source": [
    "    # Defining frequencies of interest\n",
    "    f_rad = np.array([1e-7])\n",
    "    df = 1 / 3600\n",
    "    df_rad = (2 * np.pi) * df\n",
    "    f_rad = np.concatenate([f_rad, np.arange(0.01, 5, df_rad)])"
   ]
  },
  {
   "cell_type": "code",
   "execution_count": 13,
   "metadata": {},
   "outputs": [
    {
     "data": {
      "text/plain": [
       "array([6.03576239e-04, 6.08795562e-04, 6.19718411e-04, ...,\n",
       "       5.81743378e-08, 5.82322856e-08, 5.82902348e-08])"
      ]
     },
     "execution_count": 13,
     "metadata": {},
     "output_type": "execute_result"
    }
   ],
   "source": [
    "np.abs(rao_wave[0,1,0,:,3])"
   ]
  },
  {
   "cell_type": "code",
   "execution_count": 14,
   "metadata": {},
   "outputs": [
    {
     "ename": "ValueError",
     "evalue": "x and y must have same first dimension, but have shapes (2861,) and (28592,)",
     "output_type": "error",
     "traceback": [
      "\u001b[1;31m---------------------------------------------------------------------------\u001b[0m",
      "\u001b[1;31mValueError\u001b[0m                                Traceback (most recent call last)",
      "\u001b[1;32m<ipython-input-14-df05579db844>\u001b[0m in \u001b[0;36m<module>\u001b[1;34m\u001b[0m\n\u001b[0;32m      2\u001b[0m \u001b[0mplt\u001b[0m\u001b[1;33m.\u001b[0m\u001b[0mfigure\u001b[0m\u001b[1;33m(\u001b[0m\u001b[1;33m)\u001b[0m\u001b[1;33m\u001b[0m\u001b[1;33m\u001b[0m\u001b[0m\n\u001b[0;32m      3\u001b[0m \u001b[1;32mfor\u001b[0m \u001b[0mii\u001b[0m\u001b[1;33m,\u001b[0m \u001b[0mjj\u001b[0m \u001b[1;32min\u001b[0m \u001b[0menumerate\u001b[0m\u001b[1;33m(\u001b[0m\u001b[0mnp\u001b[0m\u001b[1;33m.\u001b[0m\u001b[0marange\u001b[0m\u001b[1;33m(\u001b[0m\u001b[1;36m0\u001b[0m\u001b[1;33m,\u001b[0m\u001b[1;36m38\u001b[0m\u001b[1;33m,\u001b[0m\u001b[1;36m2\u001b[0m\u001b[1;33m)\u001b[0m\u001b[1;33m)\u001b[0m\u001b[1;33m:\u001b[0m\u001b[1;33m\u001b[0m\u001b[1;33m\u001b[0m\u001b[0m\n\u001b[1;32m----> 4\u001b[1;33m     \u001b[0mplt\u001b[0m\u001b[1;33m.\u001b[0m\u001b[0mplot\u001b[0m\u001b[1;33m(\u001b[0m\u001b[0mf_rad\u001b[0m\u001b[1;33m,\u001b[0m \u001b[0mnp\u001b[0m\u001b[1;33m.\u001b[0m\u001b[0mabs\u001b[0m\u001b[1;33m(\u001b[0m\u001b[0mrao_wave\u001b[0m\u001b[1;33m[\u001b[0m\u001b[0mii\u001b[0m\u001b[1;33m,\u001b[0m\u001b[1;36m1\u001b[0m\u001b[1;33m,\u001b[0m\u001b[1;36m0\u001b[0m\u001b[1;33m,\u001b[0m\u001b[1;33m:\u001b[0m\u001b[1;33m,\u001b[0m\u001b[1;36m3\u001b[0m\u001b[1;33m]\u001b[0m\u001b[1;33m)\u001b[0m\u001b[1;33m,\u001b[0m \u001b[1;34m'-*'\u001b[0m\u001b[1;33m,\u001b[0m \u001b[0mmarkersize\u001b[0m\u001b[1;33m=\u001b[0m\u001b[1;36m4\u001b[0m\u001b[1;33m,\u001b[0m \u001b[0mlinewidth\u001b[0m\u001b[1;33m=\u001b[0m\u001b[1;36m3\u001b[0m\u001b[1;33m,\u001b[0m \u001b[0mlabel\u001b[0m\u001b[1;33m=\u001b[0m\u001b[1;34m'Diameter = %f'\u001b[0m \u001b[1;33m%\u001b[0m \u001b[0mdia\u001b[0m\u001b[1;33m[\u001b[0m\u001b[0mii\u001b[0m\u001b[1;33m]\u001b[0m\u001b[1;33m)\u001b[0m\u001b[1;33m\u001b[0m\u001b[1;33m\u001b[0m\u001b[0m\n\u001b[0m\u001b[0;32m      5\u001b[0m \u001b[0mplt\u001b[0m\u001b[1;33m.\u001b[0m\u001b[0mylabel\u001b[0m\u001b[1;33m(\u001b[0m\u001b[1;34m'Pitch Wind Response [rad/N]'\u001b[0m\u001b[1;33m)\u001b[0m\u001b[1;33m\u001b[0m\u001b[1;33m\u001b[0m\u001b[0m\n\u001b[0;32m      6\u001b[0m \u001b[0mplt\u001b[0m\u001b[1;33m.\u001b[0m\u001b[0mxlabel\u001b[0m\u001b[1;33m(\u001b[0m\u001b[1;34m'Frequency [rad/s]'\u001b[0m\u001b[1;33m)\u001b[0m\u001b[1;33m\u001b[0m\u001b[1;33m\u001b[0m\u001b[0m\n",
      "\u001b[1;32m~\\anaconda3\\lib\\site-packages\\matplotlib\\pyplot.py\u001b[0m in \u001b[0;36mplot\u001b[1;34m(scalex, scaley, data, *args, **kwargs)\u001b[0m\n\u001b[0;32m   2794\u001b[0m     return gca().plot(\n\u001b[0;32m   2795\u001b[0m         *args, scalex=scalex, scaley=scaley, **({\"data\": data} if data\n\u001b[1;32m-> 2796\u001b[1;33m         is not None else {}), **kwargs)\n\u001b[0m\u001b[0;32m   2797\u001b[0m \u001b[1;33m\u001b[0m\u001b[0m\n\u001b[0;32m   2798\u001b[0m \u001b[1;33m\u001b[0m\u001b[0m\n",
      "\u001b[1;32m~\\anaconda3\\lib\\site-packages\\matplotlib\\axes\\_axes.py\u001b[0m in \u001b[0;36mplot\u001b[1;34m(self, scalex, scaley, data, *args, **kwargs)\u001b[0m\n\u001b[0;32m   1663\u001b[0m         \"\"\"\n\u001b[0;32m   1664\u001b[0m         \u001b[0mkwargs\u001b[0m \u001b[1;33m=\u001b[0m \u001b[0mcbook\u001b[0m\u001b[1;33m.\u001b[0m\u001b[0mnormalize_kwargs\u001b[0m\u001b[1;33m(\u001b[0m\u001b[0mkwargs\u001b[0m\u001b[1;33m,\u001b[0m \u001b[0mmlines\u001b[0m\u001b[1;33m.\u001b[0m\u001b[0mLine2D\u001b[0m\u001b[1;33m.\u001b[0m\u001b[0m_alias_map\u001b[0m\u001b[1;33m)\u001b[0m\u001b[1;33m\u001b[0m\u001b[1;33m\u001b[0m\u001b[0m\n\u001b[1;32m-> 1665\u001b[1;33m         \u001b[0mlines\u001b[0m \u001b[1;33m=\u001b[0m \u001b[1;33m[\u001b[0m\u001b[1;33m*\u001b[0m\u001b[0mself\u001b[0m\u001b[1;33m.\u001b[0m\u001b[0m_get_lines\u001b[0m\u001b[1;33m(\u001b[0m\u001b[1;33m*\u001b[0m\u001b[0margs\u001b[0m\u001b[1;33m,\u001b[0m \u001b[0mdata\u001b[0m\u001b[1;33m=\u001b[0m\u001b[0mdata\u001b[0m\u001b[1;33m,\u001b[0m \u001b[1;33m**\u001b[0m\u001b[0mkwargs\u001b[0m\u001b[1;33m)\u001b[0m\u001b[1;33m]\u001b[0m\u001b[1;33m\u001b[0m\u001b[1;33m\u001b[0m\u001b[0m\n\u001b[0m\u001b[0;32m   1666\u001b[0m         \u001b[1;32mfor\u001b[0m \u001b[0mline\u001b[0m \u001b[1;32min\u001b[0m \u001b[0mlines\u001b[0m\u001b[1;33m:\u001b[0m\u001b[1;33m\u001b[0m\u001b[1;33m\u001b[0m\u001b[0m\n\u001b[0;32m   1667\u001b[0m             \u001b[0mself\u001b[0m\u001b[1;33m.\u001b[0m\u001b[0madd_line\u001b[0m\u001b[1;33m(\u001b[0m\u001b[0mline\u001b[0m\u001b[1;33m)\u001b[0m\u001b[1;33m\u001b[0m\u001b[1;33m\u001b[0m\u001b[0m\n",
      "\u001b[1;32m~\\anaconda3\\lib\\site-packages\\matplotlib\\axes\\_base.py\u001b[0m in \u001b[0;36m__call__\u001b[1;34m(self, *args, **kwargs)\u001b[0m\n\u001b[0;32m    223\u001b[0m                 \u001b[0mthis\u001b[0m \u001b[1;33m+=\u001b[0m \u001b[0margs\u001b[0m\u001b[1;33m[\u001b[0m\u001b[1;36m0\u001b[0m\u001b[1;33m]\u001b[0m\u001b[1;33m,\u001b[0m\u001b[1;33m\u001b[0m\u001b[1;33m\u001b[0m\u001b[0m\n\u001b[0;32m    224\u001b[0m                 \u001b[0margs\u001b[0m \u001b[1;33m=\u001b[0m \u001b[0margs\u001b[0m\u001b[1;33m[\u001b[0m\u001b[1;36m1\u001b[0m\u001b[1;33m:\u001b[0m\u001b[1;33m]\u001b[0m\u001b[1;33m\u001b[0m\u001b[1;33m\u001b[0m\u001b[0m\n\u001b[1;32m--> 225\u001b[1;33m             \u001b[1;32myield\u001b[0m \u001b[1;32mfrom\u001b[0m \u001b[0mself\u001b[0m\u001b[1;33m.\u001b[0m\u001b[0m_plot_args\u001b[0m\u001b[1;33m(\u001b[0m\u001b[0mthis\u001b[0m\u001b[1;33m,\u001b[0m \u001b[0mkwargs\u001b[0m\u001b[1;33m)\u001b[0m\u001b[1;33m\u001b[0m\u001b[1;33m\u001b[0m\u001b[0m\n\u001b[0m\u001b[0;32m    226\u001b[0m \u001b[1;33m\u001b[0m\u001b[0m\n\u001b[0;32m    227\u001b[0m     \u001b[1;32mdef\u001b[0m \u001b[0mget_next_color\u001b[0m\u001b[1;33m(\u001b[0m\u001b[0mself\u001b[0m\u001b[1;33m)\u001b[0m\u001b[1;33m:\u001b[0m\u001b[1;33m\u001b[0m\u001b[1;33m\u001b[0m\u001b[0m\n",
      "\u001b[1;32m~\\anaconda3\\lib\\site-packages\\matplotlib\\axes\\_base.py\u001b[0m in \u001b[0;36m_plot_args\u001b[1;34m(self, tup, kwargs)\u001b[0m\n\u001b[0;32m    389\u001b[0m             \u001b[0mx\u001b[0m\u001b[1;33m,\u001b[0m \u001b[0my\u001b[0m \u001b[1;33m=\u001b[0m \u001b[0mindex_of\u001b[0m\u001b[1;33m(\u001b[0m\u001b[0mtup\u001b[0m\u001b[1;33m[\u001b[0m\u001b[1;33m-\u001b[0m\u001b[1;36m1\u001b[0m\u001b[1;33m]\u001b[0m\u001b[1;33m)\u001b[0m\u001b[1;33m\u001b[0m\u001b[1;33m\u001b[0m\u001b[0m\n\u001b[0;32m    390\u001b[0m \u001b[1;33m\u001b[0m\u001b[0m\n\u001b[1;32m--> 391\u001b[1;33m         \u001b[0mx\u001b[0m\u001b[1;33m,\u001b[0m \u001b[0my\u001b[0m \u001b[1;33m=\u001b[0m \u001b[0mself\u001b[0m\u001b[1;33m.\u001b[0m\u001b[0m_xy_from_xy\u001b[0m\u001b[1;33m(\u001b[0m\u001b[0mx\u001b[0m\u001b[1;33m,\u001b[0m \u001b[0my\u001b[0m\u001b[1;33m)\u001b[0m\u001b[1;33m\u001b[0m\u001b[1;33m\u001b[0m\u001b[0m\n\u001b[0m\u001b[0;32m    392\u001b[0m \u001b[1;33m\u001b[0m\u001b[0m\n\u001b[0;32m    393\u001b[0m         \u001b[1;32mif\u001b[0m \u001b[0mself\u001b[0m\u001b[1;33m.\u001b[0m\u001b[0mcommand\u001b[0m \u001b[1;33m==\u001b[0m \u001b[1;34m'plot'\u001b[0m\u001b[1;33m:\u001b[0m\u001b[1;33m\u001b[0m\u001b[1;33m\u001b[0m\u001b[0m\n",
      "\u001b[1;32m~\\anaconda3\\lib\\site-packages\\matplotlib\\axes\\_base.py\u001b[0m in \u001b[0;36m_xy_from_xy\u001b[1;34m(self, x, y)\u001b[0m\n\u001b[0;32m    268\u001b[0m         \u001b[1;32mif\u001b[0m \u001b[0mx\u001b[0m\u001b[1;33m.\u001b[0m\u001b[0mshape\u001b[0m\u001b[1;33m[\u001b[0m\u001b[1;36m0\u001b[0m\u001b[1;33m]\u001b[0m \u001b[1;33m!=\u001b[0m \u001b[0my\u001b[0m\u001b[1;33m.\u001b[0m\u001b[0mshape\u001b[0m\u001b[1;33m[\u001b[0m\u001b[1;36m0\u001b[0m\u001b[1;33m]\u001b[0m\u001b[1;33m:\u001b[0m\u001b[1;33m\u001b[0m\u001b[1;33m\u001b[0m\u001b[0m\n\u001b[0;32m    269\u001b[0m             raise ValueError(\"x and y must have same first dimension, but \"\n\u001b[1;32m--> 270\u001b[1;33m                              \"have shapes {} and {}\".format(x.shape, y.shape))\n\u001b[0m\u001b[0;32m    271\u001b[0m         \u001b[1;32mif\u001b[0m \u001b[0mx\u001b[0m\u001b[1;33m.\u001b[0m\u001b[0mndim\u001b[0m \u001b[1;33m>\u001b[0m \u001b[1;36m2\u001b[0m \u001b[1;32mor\u001b[0m \u001b[0my\u001b[0m\u001b[1;33m.\u001b[0m\u001b[0mndim\u001b[0m \u001b[1;33m>\u001b[0m \u001b[1;36m2\u001b[0m\u001b[1;33m:\u001b[0m\u001b[1;33m\u001b[0m\u001b[1;33m\u001b[0m\u001b[0m\n\u001b[0;32m    272\u001b[0m             raise ValueError(\"x and y can be no greater than 2-D, but have \"\n",
      "\u001b[1;31mValueError\u001b[0m: x and y must have same first dimension, but have shapes (2861,) and (28592,)"
     ]
    },
    {
     "data": {
      "image/png": "[encoded data removed]",
      "text/plain": [
       "<Figure size 1080x360 with 1 Axes>"
      ]
     },
     "metadata": {
      "needs_background": "light"
     },
     "output_type": "display_data"
    }
   ],
   "source": [
    "plt.rcParams[\"figure.figsize\"] = (15,5)\n",
    "plt.figure()\n",
    "for ii, jj in enumerate(np.arange(0,38,2)):\n",
    "    plt.plot(f_rad, np.abs(rao_wave[ii,1,0,:,3]), '-*', markersize=4, linewidth=3, label='Diameter = %f' % dia[ii])\n",
    "plt.ylabel('Pitch Wind Response [rad/N]')\n",
    "plt.xlabel('Frequency [rad/s]')\n",
    "plt.ticklabel_format(axis=\"y\", style=\"sci\", scilimits=(0, 0))\n",
    "plt.xlim(0.03,0.06)\n",
    "plt.legend(loc=\"upper right\", bbox_to_anchor=(1.3, 1.01))"
   ]
  },
  {
   "cell_type": "code",
   "execution_count": null,
   "metadata": {},
   "outputs": [],
   "source": [
    "plt.rcParams[\"figure.figsize\"] = (15,5)\n",
    "plt.figure()\n",
    "for ii, jj in enumerate(np.arange(0,38,2)):\n",
    "    plt.plot(f_rad, np.abs(rao_wave[ii,0,0,:,4]), '-*', markersize=4, linewidth=3, label='Diameter = %f' % dia[ii])\n",
    "plt.ylabel('Pitch Wind Response [rad/N]')\n",
    "plt.xlabel('Frequency [rad/s]')\n",
    "plt.ticklabel_format(axis=\"y\", style=\"sci\", scilimits=(0, 0))\n",
    "plt.xlim(0,2)\n",
    "plt.legend(loc=\"upper right\", bbox_to_anchor=(1.3, 1.01))"
   ]
  },
  {
   "cell_type": "markdown",
   "metadata": {},
   "source": [
    "# Now check the wind loading contribution"
   ]
  },
  {
   "cell_type": "code",
   "execution_count": null,
   "metadata": {},
   "outputs": [],
   "source": [
    "plt.plot(dia, stiffness[:,3,3], '-*')\n",
    "#plt.ylim(0,30)"
   ]
  },
  {
   "cell_type": "code",
   "execution_count": null,
   "metadata": {},
   "outputs": [],
   "source": [
    "def wind_component(x_space, y_space, dia_column, draft):\n",
    "    \n",
    "    env = Environment()\n",
    "    rho = Density()\n",
    "    mufp = FloaterParameters(x_space, y_space, dia_column, draft)\n",
    "    csa = Area(mufp)\n",
    "    buoy = Buoy(mufp, csa, rho)\n",
    "    mass = Mass(mufp, csa, buoy, rho)\n",
    "    coord = GlobalCoordinateSystem(mufp, csa, mass, rho, buoy, env)\n",
    "    matrix = MatrixCalculation(coord, mass, mufp, rho, env, csa, buoy)\n",
    "    # Adding artificial stiffness in DOF without any\n",
    "    matrix.stiffness[0, 0] = 1e6\n",
    "    matrix.stiffness[1, 1] = 1e6\n",
    "    matrix.stiffness[5, 5] = 1e9\n",
    "    \n",
    "        \n",
    "    Tr = 3 * 3600  # 3 hour return period\n",
    "\n",
    "\n",
    "    # Finding the nearest HydroD simulations for surrogate model\n",
    "    interp_inputs = np.array([[np.floor(x_space / 10) * 10, np.floor(y_space / 10) * 10, np.floor(dia_column), np.floor(draft / 2) * 2],\n",
    "                              [np.floor(x_space / 10) * 10, np.floor(y_space / 10) * 10, np.ceil(dia_column), np.floor(draft / 2) * 2]])#,\n",
    "                              #[np.ceil(x_space / 10) * 10, np.ceil(y_space / 10) * 10, np.floor(dia_column), np.floor(draft / 2) * 2],\n",
    "                              #[np.floor(x_space / 10) * 10, np.ceil(y_space / 10) * 10, np.floor(dia_column), np.floor(draft / 2) * 2],\n",
    "                              #[np.ceil(x_space / 10) * 10, np.floor(y_space / 10) * 10, np.ceil(dia_column), np.ceil(draft / 2) * 2],\n",
    "                              #[np.floor(x_space / 10) * 10, np.floor(y_space / 10) * 10, np.ceil(dia_column), np.ceil(draft / 2) * 2],\n",
    "                              #[np.ceil(x_space / 10) * 10, np.ceil(y_space / 10) * 10, np.ceil(dia_column), np.ceil(draft / 2) * 2],\n",
    "                              #[np.floor(x_space / 10) * 10, np.ceil(y_space / 10) * 10, np.ceil(dia_column), np.ceil(draft / 2) * 2]])\n",
    "\n",
    "    # Interpolating surrogate models to get estimate\n",
    "    design = [x_space, y_space, dia_column, draft]\n",
    "    results = []\n",
    "\n",
    "    for i in np.linspace(0, len(interp_inputs[:, 1]) - 1, len(interp_inputs)).astype(int):\n",
    "        file_loc = r'E:\\pickle_files'\n",
    "        file_name = \"\\sim_x_%d_y_%d_D%d_dr%d\" % (\n",
    "        interp_inputs[i, 0], interp_inputs[i, 1], interp_inputs[i, 2], interp_inputs[i, 3])\n",
    "        file_path = file_loc + file_name\n",
    "        infile = open(file_path, 'rb')\n",
    "        results.append(pickle.load(infile))\n",
    "        infile.close()\n",
    "\n",
    "    sim = LinearInterpolate(results, interp_inputs, design, 2)\n",
    "\n",
    "     # Wind Loading Spectrum Analysis\n",
    "    # Pulling Wind Force Spectrum from SIMA simulation\n",
    "    f_xx, sx_wind, sy_wind, smz_wind = WindForceSpectrum()\n",
    "    df = 1 / 36000\n",
    "    df_rad = (2 * np.pi) * df\n",
    "    f = np.arange(0, f_xx[-1], df_rad)  # Defining new frequency range\n",
    "    func_f = interpolate.interp1d(f_xx, sx_wind)\n",
    "    sx_wind = func_f(f)\n",
    "\n",
    "    func_f = interpolate.interp1d(f_xx, sy_wind)\n",
    "    sy_wind = func_f(f)\n",
    "\n",
    "    func_f = interpolate.interp1d(f_xx, smz_wind)\n",
    "    smz_wind = func_f(f)\n",
    "\n",
    "    # Applying full force to surge and pitch & misalignment force to sway and roll\n",
    "    s_wind = np.zeros(shape=(len(f), 8))\n",
    "    s_wind[:, 0] = sx_wind\n",
    "    s_wind[:, 1] = sy_wind\n",
    "    s_wind[:, 3] = sy_wind\n",
    "    s_wind[:, 4] = sx_wind\n",
    "    s_wind[:, 5] = smz_wind\n",
    "\n",
    "    tz_wind, sa_wind, n_mpm_wind, mpm_wind, wind_response, rao_wind, Y, H = windspectrumanalysis(sim, matrix,\n",
    "                                                                                                           0, mufp,\n",
    "                                                                                                           coord,\n",
    "                                                                                                           df_rad, f,\n",
    "                                                                                                           Tr, s_wind)\n",
    "    return tz_wind, sa_wind, n_mpm_wind, mpm_wind, wind_response, rao_wind, Y, H"
   ]
  },
  {
   "cell_type": "code",
   "execution_count": null,
   "metadata": {},
   "outputs": [],
   "source": [
    "sa_wind = np.zeros(shape=(len(dia),2,3,8))\n",
    "n_mpm_wind = np.zeros(shape=(len(dia),2,3,8))\n",
    "tz_wind = np.zeros(shape=(len(dia),2,3,8))\n",
    "mpm_wind = np.zeros(shape=(len(dia),2,3,8))\n",
    "rao_wind = np.zeros(shape=(len(dia),2, 3, 18000, 8)) + 0j\n",
    "wind_response= np.zeros(shape=(len(dia), 3, 18000, 8)) + 0j"
   ]
  },
  {
   "cell_type": "code",
   "execution_count": null,
   "metadata": {},
   "outputs": [],
   "source": [
    "for jj, y in enumerate(dia):\n",
    "    tz_wind[jj,:,:,:], sa_wind[jj,:,:,:], n_mpm_wind[jj,:,:,:], mpm_wind[jj,:,:,:], wind_response[jj,:,:,:], rao_wind[jj,:,:,:,:], _, _ =  wind_component(59, 50, y, 8)"
   ]
  },
  {
   "cell_type": "code",
   "execution_count": null,
   "metadata": {},
   "outputs": [],
   "source": [
    "f_xx, sx_wind, sy_wind, smz_wind = WindForceSpectrum()\n",
    "df_rad = 1/3600\n",
    "f = np.arange(0, f_xx[-1], df_rad)  # Defining new frequency range"
   ]
  },
  {
   "cell_type": "code",
   "execution_count": null,
   "metadata": {},
   "outputs": [],
   "source": [
    "plt.plot(dia,mpm_wind[:,1,0,3])"
   ]
  },
  {
   "cell_type": "code",
   "execution_count": null,
   "metadata": {},
   "outputs": [],
   "source": [
    "plt.plot(dia,mpm_wind[:,0,0,4])"
   ]
  },
  {
   "cell_type": "code",
   "execution_count": null,
   "metadata": {},
   "outputs": [],
   "source": [
    "tz_wind, sa_wind, n_mpm_wind, mpm_wind, wind_response, rao_wind, _, _ =  wind_component(59, 50, 11.5, 8)"
   ]
  },
  {
   "cell_type": "code",
   "execution_count": null,
   "metadata": {},
   "outputs": [],
   "source": [
    "wind_response.shape"
   ]
  },
  {
   "cell_type": "code",
   "execution_count": null,
   "metadata": {},
   "outputs": [],
   "source": [
    "rao_wind.shape"
   ]
  },
  {
   "cell_type": "markdown",
   "metadata": {},
   "source": [
    "# Seeing as this happens in both excitation forces, the problem might lie in the RAO"
   ]
  },
  {
   "cell_type": "code",
   "execution_count": null,
   "metadata": {},
   "outputs": [],
   "source": [
    "def RAO_section(x_space, y_space, dia_column, draft):\n",
    "    plot = 0\n",
    "    env = Environment()\n",
    "    rho = Density()\n",
    "    mufp = FloaterParameters(x_space, y_space, dia_column, draft)\n",
    "    csa = Area(mufp)\n",
    "    buoy = Buoy(mufp, csa, rho)\n",
    "    mass = Mass(mufp, csa, buoy, rho)\n",
    "    coord = GlobalCoordinateSystem(mufp, csa, mass, rho, buoy, env)\n",
    "    matrix = MatrixCalculation(coord, mass, mufp, rho, env, csa, buoy)\n",
    "    # Adding artificial stiffness in DOF without any\n",
    "    matrix.stiffness[0, 0] = 1e6\n",
    "    matrix.stiffness[1, 1] = 1e6\n",
    "    matrix.stiffness[5, 5] = 1e9\n",
    "\n",
    "    # Defining return period for statistical evaluation\n",
    "    Tr = 3 * 3600  # 3 hour return period\n",
    "\n",
    "\n",
    "    # Finding the nearest HydroD simulations for surrogate model\n",
    "    interp_inputs = np.array([[np.floor(x_space / 10) * 10, np.floor(y_space / 10) * 10, np.floor(dia_column), np.floor(draft / 2) * 2],\n",
    "                              [np.floor(x_space / 10) * 10, np.floor(y_space / 10) * 10, np.ceil(dia_column), np.floor(draft / 2) * 2]])#,\n",
    "                              #[np.ceil(x_space / 10) * 10, np.ceil(y_space / 10) * 10, np.floor(dia_column), np.floor(draft / 2) * 2],\n",
    "                              #[np.floor(x_space / 10) * 10, np.ceil(y_space / 10) * 10, np.floor(dia_column), np.floor(draft / 2) * 2],\n",
    "                              #[np.ceil(x_space / 10) * 10, np.floor(y_space / 10) * 10, np.ceil(dia_column), np.ceil(draft / 2) * 2],\n",
    "                              #[np.floor(x_space / 10) * 10, np.floor(y_space / 10) * 10, np.ceil(dia_column), np.ceil(draft / 2) * 2],\n",
    "                              #[np.ceil(x_space / 10) * 10, np.ceil(y_space / 10) * 10, np.ceil(dia_column), np.ceil(draft / 2) * 2],\n",
    "                              #[np.floor(x_space / 10) * 10, np.ceil(y_space / 10) * 10, np.ceil(dia_column), np.ceil(draft / 2) * 2]])\n",
    "\n",
    "    # Interpolating surrogate models to get estimate\n",
    "    design = [x_space, y_space, dia_column, draft]\n",
    "    results = []\n",
    "\n",
    "    for i in np.linspace(0, len(interp_inputs[:, 1]) - 1, len(interp_inputs)).astype(int):\n",
    "        file_loc = r'E:\\pickle_files'\n",
    "        file_name = \"\\sim_x_%d_y_%d_D%d_dr%d\" % (\n",
    "        interp_inputs[i, 0], interp_inputs[i, 1], interp_inputs[i, 2], interp_inputs[i, 3])\n",
    "        file_path = file_loc + file_name\n",
    "        infile = open(file_path, 'rb')\n",
    "        results.append(pickle.load(infile))\n",
    "        infile.close()\n",
    "\n",
    "\n",
    "    sim = LinearInterpolate(results, interp_inputs, design, 2)\n",
    "    #sim = Interpolate3d(results, interp_inputs, design)\n",
    "\n",
    "    # Adding 5% critical damping\n",
    "    if matrix.stiffness[4, 4] > 0 and matrix.stiffness[3, 3] > 0:\n",
    "        sim.DAMPING += (1/20)*2*np.sqrt(matrix.stiffness * (matrix.mass+sim.ADDEDMASS))\n",
    "    else:\n",
    "        print('Negative Stiffness - No Critical Damping')\n",
    "\n",
    "    nat_freq_undamped = np.sqrt(np.diag(matrix.stiffness) / np.diag(matrix.mass + sim.ADDEDMASS[0,:,:]))\n",
    "    nat_freq_damped = nat_freq_undamped*np.sqrt(1-0.05)\n",
    "\n",
    "    # Defining frequencies of interest\n",
    "    f_rad = np.array([1e-7])\n",
    "    df = 1 / 36000\n",
    "    df_rad = (2 * np.pi) * df\n",
    "    f_rad = np.concatenate([f_rad, np.arange(0.01, 5, df_rad)])\n",
    "    \n",
    "    sim_interp = InterpolateResults(sim, f_rad)\n",
    "    \n",
    "    unit_force = np.ones(shape=(2, len(f_rad), 6, 4)) + 0j\n",
    "    unit_force[:, :, 3:5, 0] = mufp.hub_height + 0j\n",
    "    unit_force[:, :, 3:5, 1] = mufp.hub_height + 0j\n",
    "\n",
    "\n",
    "    X, Y, H, Y_inv =  calulate_RAOs(sim_interp.wave_disc, matrix.mass, sim_interp.ADDEDMASS, sim_interp.DAMPING,\n",
    "                                       matrix.stiffness,\n",
    "                                       unit_force, plot, mufp, coord)\n",
    "    return X, Y, H, Y_inv, sim.wave_disc\n",
    "    "
   ]
  },
  {
   "cell_type": "code",
   "execution_count": null,
   "metadata": {},
   "outputs": [],
   "source": [
    "f_rad = np.array([1e-7])\n",
    "df = 1 / 36000\n",
    "df_rad = (2 * np.pi) * df\n",
    "f_rad = np.concatenate([f_rad, np.arange(0.01, 5, df_rad)])"
   ]
  },
  {
   "cell_type": "code",
   "execution_count": null,
   "metadata": {},
   "outputs": [],
   "source": [
    "X = np.zeros(shape=(len(dia),2, 3, len(f_rad), 8)) + 0j\n",
    "Y = np.zeros(shape=(len(dia),len(f_rad), 6, 6))+ 0j\n",
    "H = np.zeros(shape=(len(dia),2, len(f_rad), 6))+ 0j\n",
    "Y_inv = np.zeros(shape=(len(dia),len(f_rad), 6, 6))+ 0j"
   ]
  },
  {
   "cell_type": "code",
   "execution_count": null,
   "metadata": {},
   "outputs": [],
   "source": [
    "for jj, y in enumerate(dia):\n",
    "    X[jj,:,:,:,:], Y[jj,:,:,:], H[jj,:,:,:], Y_inv[jj,:,:,:], wave_disc =  RAO_section(59, 50, y, 8)"
   ]
  },
  {
   "cell_type": "code",
   "execution_count": null,
   "metadata": {},
   "outputs": [],
   "source": [
    "f_rad = np.array([1e-7])\n",
    "df = 1 / 3600\n",
    "df_rad = (2 * np.pi) * df\n",
    "f_rad = np.concatenate([f_rad, np.arange(0.01, 5, df_rad)])"
   ]
  },
  {
   "cell_type": "code",
   "execution_count": null,
   "metadata": {},
   "outputs": [],
   "source": [
    "plt.rcParams[\"figure.figsize\"] = (15,5)\n",
    "plt.figure()\n",
    "for ii, jj in enumerate(np.arange(0,38,4)):\n",
    "    plt.plot(f_rad, np.abs(X[ii,0,0,:,4]), '-*', markersize=4, linewidth=3, label='Diameter = %.2f' % dia[ii])\n",
    "plt.ylabel('Pitch Wind Response [rad/N]')\n",
    "plt.xlabel('Frequency [rad/s]')\n",
    "plt.ticklabel_format(axis=\"y\", style=\"sci\", scilimits=(0, 0))\n",
    "plt.xlim(0,.75)\n",
    "plt.legend(loc=\"upper right\", bbox_to_anchor=(1.3, 1.01))"
   ]
  },
  {
   "cell_type": "code",
   "execution_count": null,
   "metadata": {},
   "outputs": [],
   "source": [
    "plt.rcParams[\"figure.figsize\"] = (15,5)\n",
    "plt.figure()\n",
    "for ii, jj in enumerate(np.arange(0,38,2)):\n",
    "    plt.plot(f_rad, np.abs(X[ii,1,0,:,3]), '-*', markersize=10, linewidth=3, label='Diameter = %f' % dia[ii])\n",
    "plt.ylabel('Pitch Wind Response [rad/N]')\n",
    "plt.xlabel('Frequency [rad/s]')\n",
    "plt.ticklabel_format(axis=\"y\", style=\"sci\", scilimits=(0, 0))\n",
    "plt.xlim(0,0.06)\n",
    "plt.legend(loc=\"upper right\", bbox_to_anchor=(1.3, 1.01))"
   ]
  },
  {
   "cell_type": "code",
   "execution_count": null,
   "metadata": {},
   "outputs": [],
   "source": [
    "plt.rcParams[\"figure.figsize\"] = (15,5)\n",
    "plt.figure()\n",
    "for ii, jj in enumerate(np.arange(0,38,2)):\n",
    "    plt.plot(f_rad, np.real(Y[ii,:,3,3]), '-*', markersize=10, linewidth=3, label='Diameter = %f' % dia[ii])\n",
    "plt.ylabel('Pitch Wind Response [rad/N]')\n",
    "plt.xlabel('Frequency [rad/s]')\n",
    "plt.ticklabel_format(axis=\"y\", style=\"sci\", scilimits=(0, 0))\n",
    "plt.xlim(0,.5)\n",
    "plt.ylim(0,1e8)\n",
    "plt.legend(loc=\"upper right\", bbox_to_anchor=(1.3, 1.01))"
   ]
  },
  {
   "cell_type": "code",
   "execution_count": null,
   "metadata": {},
   "outputs": [],
   "source": [
    "1/3600"
   ]
  },
  {
   "cell_type": "code",
   "execution_count": null,
   "metadata": {},
   "outputs": [],
   "source": [
    "Y_inv.shape"
   ]
  },
  {
   "cell_type": "code",
   "execution_count": null,
   "metadata": {},
   "outputs": [],
   "source": []
  }
 ],
 "metadata": {
  "kernelspec": {
   "display_name": "Python 3",
   "language": "python",
   "name": "python3"
  },
  "language_info": {
   "codemirror_mode": {
    "name": "ipython",
    "version": 3
   },
   "file_extension": ".py",
   "mimetype": "text/x-python",
   "name": "python",
   "nbconvert_exporter": "python",
   "pygments_lexer": "ipython3",
   "version": "3.7.6"
  }
 },
 "nbformat": 4,
 "nbformat_minor": 4
}
