{
 "cells": [
  {
   "cell_type": "code",
   "execution_count": 1,
   "metadata": {},
   "outputs": [],
   "source": [
    "import pandas as pd\n",
    "import numpy as np"
   ]
  },
  {
   "cell_type": "code",
   "execution_count": 2,
   "metadata": {
    "scrolled": true
   },
   "outputs": [
    {
     "name": "stdout",
     "output_type": "stream",
     "text": [
      "Unable to import mpi4py. Parallel processing unavailable.\n",
      "Unable to import petsc4py. Parallel processing unavailable.\n",
      "Unable to import petsc4py. Parallel processing unavailable.\n"
     ]
    }
   ],
   "source": [
    "from sub_hydro_static import FloaterParameters, Density, CrossSectionalArea, Buoy, Mass, GeneralisedCoordinateSystem \n",
    "from GeniE_command import comp_hydrocoeff\n",
    "from _read_wadam_lis import ReadWadamLis"
   ]
  },
  {
   "cell_type": "code",
   "execution_count": 3,
   "metadata": {
    "scrolled": true
   },
   "outputs": [],
   "source": [
    "floater = FloaterParameters(60, 60, 14)\n",
    "rho = Density()\n",
    "area = CrossSectionalArea(floater)\n",
    "buoy = Buoy(floater, area, rho)\n",
    "mass = Mass(floater, area, buoy, rho)\n",
    "coord = GeneralisedCoordinateSystem(floater, area, mass, rho, buoy)"
   ]
  },
  {
   "cell_type": "code",
   "execution_count": 4,
   "metadata": {
    "scrolled": false
   },
   "outputs": [
    {
     "data": {
      "text/html": [
       "<div>\n",
       "<style scoped>\n",
       "    .dataframe tbody tr th:only-of-type {\n",
       "        vertical-align: middle;\n",
       "    }\n",
       "\n",
       "    .dataframe tbody tr th {\n",
       "        vertical-align: top;\n",
       "    }\n",
       "\n",
       "    .dataframe thead th {\n",
       "        text-align: right;\n",
       "    }\n",
       "</style>\n",
       "<table border=\"1\" class=\"dataframe\">\n",
       "  <thead>\n",
       "    <tr style=\"text-align: right;\">\n",
       "      <th></th>\n",
       "      <th>x</th>\n",
       "      <th>y</th>\n",
       "      <th>z</th>\n",
       "      <th>Mass [kg]</th>\n",
       "      <th>weight_contribution</th>\n",
       "    </tr>\n",
       "    <tr>\n",
       "      <th>Component</th>\n",
       "      <th></th>\n",
       "      <th></th>\n",
       "      <th></th>\n",
       "      <th></th>\n",
       "      <th></th>\n",
       "    </tr>\n",
       "  </thead>\n",
       "  <tbody>\n",
       "    <tr>\n",
       "      <th>Front Ballast</th>\n",
       "      <td>0</td>\n",
       "      <td>0.000</td>\n",
       "      <td>-13.051298</td>\n",
       "      <td>1.490218e+06</td>\n",
       "      <td>0.195762</td>\n",
       "    </tr>\n",
       "    <tr>\n",
       "      <th>Back Left Ballast</th>\n",
       "      <td>-60</td>\n",
       "      <td>-30.000</td>\n",
       "      <td>-13.534634</td>\n",
       "      <td>7.309944e+05</td>\n",
       "      <td>0.096027</td>\n",
       "    </tr>\n",
       "    <tr>\n",
       "      <th>Back Right Ballast</th>\n",
       "      <td>-60</td>\n",
       "      <td>30.000</td>\n",
       "      <td>-13.534634</td>\n",
       "      <td>7.309944e+05</td>\n",
       "      <td>0.096027</td>\n",
       "    </tr>\n",
       "    <tr>\n",
       "      <th>Front Column</th>\n",
       "      <td>0</td>\n",
       "      <td>0.000</td>\n",
       "      <td>-6.000000</td>\n",
       "      <td>6.904814e+05</td>\n",
       "      <td>0.090705</td>\n",
       "    </tr>\n",
       "    <tr>\n",
       "      <th>Back Left Column</th>\n",
       "      <td>-60</td>\n",
       "      <td>-30.000</td>\n",
       "      <td>-6.000000</td>\n",
       "      <td>6.904814e+05</td>\n",
       "      <td>0.090705</td>\n",
       "    </tr>\n",
       "    <tr>\n",
       "      <th>Back Right Column</th>\n",
       "      <td>-60</td>\n",
       "      <td>30.000</td>\n",
       "      <td>-6.000000</td>\n",
       "      <td>6.904814e+05</td>\n",
       "      <td>0.090705</td>\n",
       "    </tr>\n",
       "    <tr>\n",
       "      <th>Front Heave Plate</th>\n",
       "      <td>0</td>\n",
       "      <td>0.000</td>\n",
       "      <td>-13.000000</td>\n",
       "      <td>3.567646e+05</td>\n",
       "      <td>0.046866</td>\n",
       "    </tr>\n",
       "    <tr>\n",
       "      <th>Back Left Heave Plate</th>\n",
       "      <td>-60</td>\n",
       "      <td>-30.000</td>\n",
       "      <td>-13.000000</td>\n",
       "      <td>3.567646e+05</td>\n",
       "      <td>0.046866</td>\n",
       "    </tr>\n",
       "    <tr>\n",
       "      <th>Back Right Heave Plate</th>\n",
       "      <td>-60</td>\n",
       "      <td>30.000</td>\n",
       "      <td>-13.000000</td>\n",
       "      <td>3.567646e+05</td>\n",
       "      <td>0.046866</td>\n",
       "    </tr>\n",
       "    <tr>\n",
       "      <th>Left RNA</th>\n",
       "      <td>-60</td>\n",
       "      <td>-71.050</td>\n",
       "      <td>85.000000</td>\n",
       "      <td>4.067800e+05</td>\n",
       "      <td>0.053437</td>\n",
       "    </tr>\n",
       "    <tr>\n",
       "      <th>Right RNA</th>\n",
       "      <td>-60</td>\n",
       "      <td>71.050</td>\n",
       "      <td>85.000000</td>\n",
       "      <td>4.067800e+05</td>\n",
       "      <td>0.053437</td>\n",
       "    </tr>\n",
       "    <tr>\n",
       "      <th>Left Tower</th>\n",
       "      <td>-60</td>\n",
       "      <td>-50.525</td>\n",
       "      <td>65.384615</td>\n",
       "      <td>3.524440e+05</td>\n",
       "      <td>0.046299</td>\n",
       "    </tr>\n",
       "    <tr>\n",
       "      <th>Right Tower</th>\n",
       "      <td>-60</td>\n",
       "      <td>50.525</td>\n",
       "      <td>65.384615</td>\n",
       "      <td>3.524440e+05</td>\n",
       "      <td>0.046299</td>\n",
       "    </tr>\n",
       "  </tbody>\n",
       "</table>\n",
       "</div>"
      ],
      "text/plain": [
       "                         x       y          z     Mass [kg]  \\\n",
       "Component                                                     \n",
       "Front Ballast            0   0.000 -13.051298  1.490218e+06   \n",
       "Back Left Ballast      -60 -30.000 -13.534634  7.309944e+05   \n",
       "Back Right Ballast     -60  30.000 -13.534634  7.309944e+05   \n",
       "Front Column             0   0.000  -6.000000  6.904814e+05   \n",
       "Back Left Column       -60 -30.000  -6.000000  6.904814e+05   \n",
       "Back Right Column      -60  30.000  -6.000000  6.904814e+05   \n",
       "Front Heave Plate        0   0.000 -13.000000  3.567646e+05   \n",
       "Back Left Heave Plate  -60 -30.000 -13.000000  3.567646e+05   \n",
       "Back Right Heave Plate -60  30.000 -13.000000  3.567646e+05   \n",
       "Left RNA               -60 -71.050  85.000000  4.067800e+05   \n",
       "Right RNA              -60  71.050  85.000000  4.067800e+05   \n",
       "Left Tower             -60 -50.525  65.384615  3.524440e+05   \n",
       "Right Tower            -60  50.525  65.384615  3.524440e+05   \n",
       "\n",
       "                        weight_contribution  \n",
       "Component                                    \n",
       "Front Ballast                      0.195762  \n",
       "Back Left Ballast                  0.096027  \n",
       "Back Right Ballast                 0.096027  \n",
       "Front Column                       0.090705  \n",
       "Back Left Column                   0.090705  \n",
       "Back Right Column                  0.090705  \n",
       "Front Heave Plate                  0.046866  \n",
       "Back Left Heave Plate              0.046866  \n",
       "Back Right Heave Plate             0.046866  \n",
       "Left RNA                           0.053437  \n",
       "Right RNA                          0.053437  \n",
       "Left Tower                         0.046299  \n",
       "Right Tower                        0.046299  "
      ]
     },
     "execution_count": 4,
     "metadata": {},
     "output_type": "execute_result"
    }
   ],
   "source": [
    "coord.mass_df"
   ]
  },
  {
   "cell_type": "code",
   "execution_count": 5,
   "metadata": {
    "scrolled": true
   },
   "outputs": [
    {
     "data": {
      "text/html": [
       "<div>\n",
       "<style scoped>\n",
       "    .dataframe tbody tr th:only-of-type {\n",
       "        vertical-align: middle;\n",
       "    }\n",
       "\n",
       "    .dataframe tbody tr th {\n",
       "        vertical-align: top;\n",
       "    }\n",
       "\n",
       "    .dataframe thead th {\n",
       "        text-align: right;\n",
       "    }\n",
       "</style>\n",
       "<table border=\"1\" class=\"dataframe\">\n",
       "  <thead>\n",
       "    <tr style=\"text-align: right;\">\n",
       "      <th></th>\n",
       "      <th>x</th>\n",
       "      <th>y</th>\n",
       "      <th>z</th>\n",
       "      <th>Buoy [kg]</th>\n",
       "      <th>buoy_contribution</th>\n",
       "    </tr>\n",
       "    <tr>\n",
       "      <th>Component</th>\n",
       "      <th></th>\n",
       "      <th></th>\n",
       "      <th></th>\n",
       "      <th></th>\n",
       "      <th></th>\n",
       "    </tr>\n",
       "  </thead>\n",
       "  <tbody>\n",
       "    <tr>\n",
       "      <th>Front Column Buoy</th>\n",
       "      <td>0</td>\n",
       "      <td>0.0</td>\n",
       "      <td>-6.0</td>\n",
       "      <td>1.893438e+06</td>\n",
       "      <td>0.248731</td>\n",
       "    </tr>\n",
       "    <tr>\n",
       "      <th>Back Left Column Buoy</th>\n",
       "      <td>-60</td>\n",
       "      <td>30.0</td>\n",
       "      <td>-6.0</td>\n",
       "      <td>1.893438e+06</td>\n",
       "      <td>0.248731</td>\n",
       "    </tr>\n",
       "    <tr>\n",
       "      <th>Back Right Column Buoy</th>\n",
       "      <td>-60</td>\n",
       "      <td>-30.0</td>\n",
       "      <td>-6.0</td>\n",
       "      <td>1.893438e+06</td>\n",
       "      <td>0.248731</td>\n",
       "    </tr>\n",
       "    <tr>\n",
       "      <th>Front Heave Buoy</th>\n",
       "      <td>0</td>\n",
       "      <td>0.0</td>\n",
       "      <td>-13.0</td>\n",
       "      <td>6.440265e+05</td>\n",
       "      <td>0.084602</td>\n",
       "    </tr>\n",
       "    <tr>\n",
       "      <th>Back Left Heave Buoy</th>\n",
       "      <td>-60</td>\n",
       "      <td>30.0</td>\n",
       "      <td>-13.0</td>\n",
       "      <td>6.440265e+05</td>\n",
       "      <td>0.084602</td>\n",
       "    </tr>\n",
       "    <tr>\n",
       "      <th>Back Right Heave Buoy</th>\n",
       "      <td>-60</td>\n",
       "      <td>-30.0</td>\n",
       "      <td>-13.0</td>\n",
       "      <td>6.440265e+05</td>\n",
       "      <td>0.084602</td>\n",
       "    </tr>\n",
       "  </tbody>\n",
       "</table>\n",
       "</div>"
      ],
      "text/plain": [
       "                         x     y     z     Buoy [kg]  buoy_contribution\n",
       "Component                                                              \n",
       "Front Column Buoy        0   0.0  -6.0  1.893438e+06           0.248731\n",
       "Back Left Column Buoy  -60  30.0  -6.0  1.893438e+06           0.248731\n",
       "Back Right Column Buoy -60 -30.0  -6.0  1.893438e+06           0.248731\n",
       "Front Heave Buoy         0   0.0 -13.0  6.440265e+05           0.084602\n",
       "Back Left Heave Buoy   -60  30.0 -13.0  6.440265e+05           0.084602\n",
       "Back Right Heave Buoy  -60 -30.0 -13.0  6.440265e+05           0.084602"
      ]
     },
     "execution_count": 5,
     "metadata": {},
     "output_type": "execute_result"
    }
   ],
   "source": [
    "coord.buoy_df"
   ]
  },
  {
   "cell_type": "code",
   "execution_count": 6,
   "metadata": {},
   "outputs": [
    {
     "data": {
      "text/plain": [
       "[-40.0, 0.0, 6.523858245161339]"
      ]
     },
     "execution_count": 6,
     "metadata": {},
     "output_type": "execute_result"
    }
   ],
   "source": [
    "coord.COM"
   ]
  },
  {
   "cell_type": "code",
   "execution_count": 7,
   "metadata": {},
   "outputs": [
    {
     "data": {
      "text/plain": [
       "[-39.99999999999999, 0.0, -7.776649746192893]"
      ]
     },
     "execution_count": 7,
     "metadata": {},
     "output_type": "execute_result"
    }
   ],
   "source": [
    "coord.COB"
   ]
  },
  {
   "cell_type": "code",
   "execution_count": 8,
   "metadata": {},
   "outputs": [
    {
     "data": {
      "text/plain": [
       "-14.300507991354232"
      ]
     },
     "execution_count": 8,
     "metadata": {},
     "output_type": "execute_result"
    }
   ],
   "source": [
    "coord.COB[2] - coord.COM[2]"
   ]
  },
  {
   "cell_type": "code",
   "execution_count": 9,
   "metadata": {},
   "outputs": [
    {
     "data": {
      "text/plain": [
       "56.77950945851146"
      ]
     },
     "execution_count": 9,
     "metadata": {},
     "output_type": "execute_result"
    }
   ],
   "source": [
    "coord.RoG"
   ]
  },
  {
   "cell_type": "code",
   "execution_count": 10,
   "metadata": {},
   "outputs": [
    {
     "data": {
      "text/plain": [
       "7612393.158913428"
      ]
     },
     "execution_count": 10,
     "metadata": {},
     "output_type": "execute_result"
    }
   ],
   "source": [
    "buoy.total"
   ]
  },
  {
   "cell_type": "code",
   "execution_count": 11,
   "metadata": {},
   "outputs": [
    {
     "data": {
      "text/plain": [
       "True"
      ]
     },
     "execution_count": 11,
     "metadata": {},
     "output_type": "execute_result"
    }
   ],
   "source": [
    "buoy.total == mass.total"
   ]
  },
  {
   "cell_type": "code",
   "execution_count": 12,
   "metadata": {},
   "outputs": [
    {
     "data": {
      "text/plain": [
       "0.5379089884769531"
      ]
     },
     "execution_count": 12,
     "metadata": {},
     "output_type": "execute_result"
    }
   ],
   "source": [
    "4094774.704 /mass.total"
   ]
  },
  {
   "cell_type": "code",
   "execution_count": 13,
   "metadata": {},
   "outputs": [],
   "source": [
    "genie = comp_hydrocoeff()\n",
    "genie.setup()"
   ]
  },
  {
   "cell_type": "code",
   "execution_count": 14,
   "metadata": {},
   "outputs": [
    {
     "name": "stdout",
     "output_type": "stream",
     "text": [
      "[-40.0, 0.0, 6.523858245161339]\n",
      "56.77950945851146\n"
     ]
    }
   ],
   "source": [
    "genie.compute(coord, mass, floater)"
   ]
  },
  {
   "cell_type": "code",
   "execution_count": 15,
   "metadata": {},
   "outputs": [
    {
     "data": {
      "text/plain": [
       "'C:\\\\Users\\\\Joar\\\\Documents\\\\1_Education\\\\NTNU\\\\WadamRun1'"
      ]
     },
     "execution_count": 15,
     "metadata": {},
     "output_type": "execute_result"
    }
   ],
   "source": [
    "genie.HydroD_result"
   ]
  },
  {
   "cell_type": "code",
   "execution_count": 16,
   "metadata": {},
   "outputs": [],
   "source": [
    "from _read_wadam_lis import ReadWadamLis"
   ]
  },
  {
   "cell_type": "code",
   "execution_count": 17,
   "metadata": {},
   "outputs": [],
   "source": [
    "sim = ReadWadamLis(genie.HydroD_result)"
   ]
  },
  {
   "cell_type": "code",
   "execution_count": 18,
   "metadata": {},
   "outputs": [
    {
     "data": {
      "text/plain": [
       "7612393.158913428"
      ]
     },
     "execution_count": 18,
     "metadata": {},
     "output_type": "execute_result"
    }
   ],
   "source": [
    "buoy.total"
   ]
  },
  {
   "cell_type": "code",
   "execution_count": 19,
   "metadata": {},
   "outputs": [
    {
     "data": {
      "text/plain": [
       "352443.97007268376"
      ]
     },
     "execution_count": 19,
     "metadata": {},
     "output_type": "execute_result"
    }
   ],
   "source": [
    "mass.tower"
   ]
  },
  {
   "cell_type": "code",
   "execution_count": null,
   "metadata": {},
   "outputs": [],
   "source": []
  }
 ],
 "metadata": {
  "kernelspec": {
   "display_name": "Python 3",
   "language": "python",
   "name": "python3"
  },
  "language_info": {
   "codemirror_mode": {
    "name": "ipython",
    "version": 3
   },
   "file_extension": ".py",
   "mimetype": "text/x-python",
   "name": "python",
   "nbconvert_exporter": "python",
   "pygments_lexer": "ipython3",
   "version": "3.7.6"
  }
 },
 "nbformat": 4,
 "nbformat_minor": 4
}
