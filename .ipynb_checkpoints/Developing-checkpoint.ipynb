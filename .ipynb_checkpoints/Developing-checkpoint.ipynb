{
 "cells": [
  {
   "cell_type": "code",
   "execution_count": 1,
   "metadata": {},
   "outputs": [],
   "source": [
    "import pandas as pd\n",
    "import numpy as np"
   ]
  },
  {
   "cell_type": "code",
   "execution_count": 2,
   "metadata": {
    "scrolled": true
   },
   "outputs": [
    {
     "name": "stdout",
     "output_type": "stream",
     "text": [
      "Unable to import mpi4py. Parallel processing unavailable.\n",
      "Unable to import petsc4py. Parallel processing unavailable.\n",
      "Unable to import petsc4py. Parallel processing unavailable.\n"
     ]
    }
   ],
   "source": [
    "from sub_hydro_static import FloaterParameters, Density, CrossSectionalArea, Buoy, Mass, GeneralisedCoordinateSystem \n",
    "from GeniE_command import comp_hydrocoeff"
   ]
  },
  {
   "cell_type": "code",
   "execution_count": 3,
   "metadata": {
    "scrolled": true
   },
   "outputs": [],
   "source": [
    "floater = FloaterParameters(75, 100)\n",
    "rho = Density()\n",
    "area = CrossSectionalArea(floater)\n",
    "buoy = Buoy(floater, area, rho)\n",
    "mass = Mass(floater, area, buoy, rho)\n",
    "coord = GeneralisedCoordinateSystem(floater, area, mass, rho, buoy)"
   ]
  },
  {
   "cell_type": "code",
   "execution_count": 4,
   "metadata": {
    "scrolled": false
   },
   "outputs": [
    {
     "data": {
      "text/html": [
       "<div>\n",
       "<style scoped>\n",
       "    .dataframe tbody tr th:only-of-type {\n",
       "        vertical-align: middle;\n",
       "    }\n",
       "\n",
       "    .dataframe tbody tr th {\n",
       "        vertical-align: top;\n",
       "    }\n",
       "\n",
       "    .dataframe thead th {\n",
       "        text-align: right;\n",
       "    }\n",
       "</style>\n",
       "<table border=\"1\" class=\"dataframe\">\n",
       "  <thead>\n",
       "    <tr style=\"text-align: right;\">\n",
       "      <th></th>\n",
       "      <th>x</th>\n",
       "      <th>y</th>\n",
       "      <th>z</th>\n",
       "      <th>Mass [kg]</th>\n",
       "      <th>weight_contribution</th>\n",
       "    </tr>\n",
       "    <tr>\n",
       "      <th>Component</th>\n",
       "      <th></th>\n",
       "      <th></th>\n",
       "      <th></th>\n",
       "      <th></th>\n",
       "      <th></th>\n",
       "    </tr>\n",
       "  </thead>\n",
       "  <tbody>\n",
       "    <tr>\n",
       "      <th>Front Ballast</th>\n",
       "      <td>0</td>\n",
       "      <td>0.000</td>\n",
       "      <td>-11.982757</td>\n",
       "      <td>3.202983e+06</td>\n",
       "      <td>0.236827</td>\n",
       "    </tr>\n",
       "    <tr>\n",
       "      <th>Back Left Ballast</th>\n",
       "      <td>-75</td>\n",
       "      <td>-50.000</td>\n",
       "      <td>-12.944254</td>\n",
       "      <td>2.443759e+06</td>\n",
       "      <td>0.180691</td>\n",
       "    </tr>\n",
       "    <tr>\n",
       "      <th>Back Right Ballast</th>\n",
       "      <td>-75</td>\n",
       "      <td>50.000</td>\n",
       "      <td>-12.944254</td>\n",
       "      <td>2.443759e+06</td>\n",
       "      <td>0.180691</td>\n",
       "    </tr>\n",
       "    <tr>\n",
       "      <th>Front Column</th>\n",
       "      <td>0</td>\n",
       "      <td>0.000</td>\n",
       "      <td>-6.000000</td>\n",
       "      <td>1.043769e+06</td>\n",
       "      <td>0.077176</td>\n",
       "    </tr>\n",
       "    <tr>\n",
       "      <th>Back Left Column</th>\n",
       "      <td>-75</td>\n",
       "      <td>-50.000</td>\n",
       "      <td>-6.000000</td>\n",
       "      <td>1.043769e+06</td>\n",
       "      <td>0.077176</td>\n",
       "    </tr>\n",
       "    <tr>\n",
       "      <th>Back Right Column</th>\n",
       "      <td>-75</td>\n",
       "      <td>50.000</td>\n",
       "      <td>-6.000000</td>\n",
       "      <td>1.043769e+06</td>\n",
       "      <td>0.077176</td>\n",
       "    </tr>\n",
       "    <tr>\n",
       "      <th>Front Heave Plate</th>\n",
       "      <td>0</td>\n",
       "      <td>0.000</td>\n",
       "      <td>-13.000000</td>\n",
       "      <td>2.614330e+05</td>\n",
       "      <td>0.019330</td>\n",
       "    </tr>\n",
       "    <tr>\n",
       "      <th>Back Left Heave Plate</th>\n",
       "      <td>-75</td>\n",
       "      <td>-50.000</td>\n",
       "      <td>-13.000000</td>\n",
       "      <td>2.614330e+05</td>\n",
       "      <td>0.019330</td>\n",
       "    </tr>\n",
       "    <tr>\n",
       "      <th>Back Right Heave Plate</th>\n",
       "      <td>-75</td>\n",
       "      <td>50.000</td>\n",
       "      <td>-13.000000</td>\n",
       "      <td>2.614330e+05</td>\n",
       "      <td>0.019330</td>\n",
       "    </tr>\n",
       "    <tr>\n",
       "      <th>Left RNA</th>\n",
       "      <td>-75</td>\n",
       "      <td>-71.050</td>\n",
       "      <td>85.000000</td>\n",
       "      <td>4.067800e+05</td>\n",
       "      <td>0.030077</td>\n",
       "    </tr>\n",
       "    <tr>\n",
       "      <th>Right RNA</th>\n",
       "      <td>-75</td>\n",
       "      <td>71.050</td>\n",
       "      <td>85.000000</td>\n",
       "      <td>4.067800e+05</td>\n",
       "      <td>0.030077</td>\n",
       "    </tr>\n",
       "    <tr>\n",
       "      <th>Left Tower</th>\n",
       "      <td>-75</td>\n",
       "      <td>-60.525</td>\n",
       "      <td>65.384615</td>\n",
       "      <td>3.524440e+05</td>\n",
       "      <td>0.026060</td>\n",
       "    </tr>\n",
       "    <tr>\n",
       "      <th>Right Tower</th>\n",
       "      <td>-75</td>\n",
       "      <td>60.525</td>\n",
       "      <td>65.384615</td>\n",
       "      <td>3.524440e+05</td>\n",
       "      <td>0.026060</td>\n",
       "    </tr>\n",
       "  </tbody>\n",
       "</table>\n",
       "</div>"
      ],
      "text/plain": [
       "                         x       y          z     Mass [kg]  \\\n",
       "Component                                                     \n",
       "Front Ballast            0   0.000 -11.982757  3.202983e+06   \n",
       "Back Left Ballast      -75 -50.000 -12.944254  2.443759e+06   \n",
       "Back Right Ballast     -75  50.000 -12.944254  2.443759e+06   \n",
       "Front Column             0   0.000  -6.000000  1.043769e+06   \n",
       "Back Left Column       -75 -50.000  -6.000000  1.043769e+06   \n",
       "Back Right Column      -75  50.000  -6.000000  1.043769e+06   \n",
       "Front Heave Plate        0   0.000 -13.000000  2.614330e+05   \n",
       "Back Left Heave Plate  -75 -50.000 -13.000000  2.614330e+05   \n",
       "Back Right Heave Plate -75  50.000 -13.000000  2.614330e+05   \n",
       "Left RNA               -75 -71.050  85.000000  4.067800e+05   \n",
       "Right RNA              -75  71.050  85.000000  4.067800e+05   \n",
       "Left Tower             -75 -60.525  65.384615  3.524440e+05   \n",
       "Right Tower            -75  60.525  65.384615  3.524440e+05   \n",
       "\n",
       "                        weight_contribution  \n",
       "Component                                    \n",
       "Front Ballast                      0.236827  \n",
       "Back Left Ballast                  0.180691  \n",
       "Back Right Ballast                 0.180691  \n",
       "Front Column                       0.077176  \n",
       "Back Left Column                   0.077176  \n",
       "Back Right Column                  0.077176  \n",
       "Front Heave Plate                  0.019330  \n",
       "Back Left Heave Plate              0.019330  \n",
       "Back Right Heave Plate             0.019330  \n",
       "Left RNA                           0.030077  \n",
       "Right RNA                          0.030077  \n",
       "Left Tower                         0.026060  \n",
       "Right Tower                        0.026060  "
      ]
     },
     "execution_count": 4,
     "metadata": {},
     "output_type": "execute_result"
    }
   ],
   "source": [
    "coord.mass_df"
   ]
  },
  {
   "cell_type": "code",
   "execution_count": 5,
   "metadata": {
    "scrolled": true
   },
   "outputs": [
    {
     "data": {
      "text/html": [
       "<div>\n",
       "<style scoped>\n",
       "    .dataframe tbody tr th:only-of-type {\n",
       "        vertical-align: middle;\n",
       "    }\n",
       "\n",
       "    .dataframe tbody tr th {\n",
       "        vertical-align: top;\n",
       "    }\n",
       "\n",
       "    .dataframe thead th {\n",
       "        text-align: right;\n",
       "    }\n",
       "</style>\n",
       "<table border=\"1\" class=\"dataframe\">\n",
       "  <thead>\n",
       "    <tr style=\"text-align: right;\">\n",
       "      <th></th>\n",
       "      <th>x</th>\n",
       "      <th>y</th>\n",
       "      <th>z</th>\n",
       "      <th>Buoy [kg]</th>\n",
       "      <th>buoy_contribution</th>\n",
       "    </tr>\n",
       "    <tr>\n",
       "      <th>Component</th>\n",
       "      <th></th>\n",
       "      <th></th>\n",
       "      <th></th>\n",
       "      <th></th>\n",
       "      <th></th>\n",
       "    </tr>\n",
       "  </thead>\n",
       "  <tbody>\n",
       "    <tr>\n",
       "      <th>Front Column Buoy</th>\n",
       "      <td>0</td>\n",
       "      <td>0.0</td>\n",
       "      <td>-6.0</td>\n",
       "      <td>3.864159e+06</td>\n",
       "      <td>0.285714</td>\n",
       "    </tr>\n",
       "    <tr>\n",
       "      <th>Back Left Column Buoy</th>\n",
       "      <td>-75</td>\n",
       "      <td>50.0</td>\n",
       "      <td>-6.0</td>\n",
       "      <td>3.864159e+06</td>\n",
       "      <td>0.285714</td>\n",
       "    </tr>\n",
       "    <tr>\n",
       "      <th>Back Right Column Buoy</th>\n",
       "      <td>-75</td>\n",
       "      <td>-50.0</td>\n",
       "      <td>-6.0</td>\n",
       "      <td>3.864159e+06</td>\n",
       "      <td>0.285714</td>\n",
       "    </tr>\n",
       "    <tr>\n",
       "      <th>Front Heave Buoy</th>\n",
       "      <td>0</td>\n",
       "      <td>0.0</td>\n",
       "      <td>-13.0</td>\n",
       "      <td>6.440265e+05</td>\n",
       "      <td>0.047619</td>\n",
       "    </tr>\n",
       "    <tr>\n",
       "      <th>Back Left Heave Buoy</th>\n",
       "      <td>-75</td>\n",
       "      <td>50.0</td>\n",
       "      <td>-13.0</td>\n",
       "      <td>6.440265e+05</td>\n",
       "      <td>0.047619</td>\n",
       "    </tr>\n",
       "    <tr>\n",
       "      <th>Back Right Heave Buoy</th>\n",
       "      <td>-75</td>\n",
       "      <td>-50.0</td>\n",
       "      <td>-13.0</td>\n",
       "      <td>6.440265e+05</td>\n",
       "      <td>0.047619</td>\n",
       "    </tr>\n",
       "  </tbody>\n",
       "</table>\n",
       "</div>"
      ],
      "text/plain": [
       "                         x     y     z     Buoy [kg]  buoy_contribution\n",
       "Component                                                              \n",
       "Front Column Buoy        0   0.0  -6.0  3.864159e+06           0.285714\n",
       "Back Left Column Buoy  -75  50.0  -6.0  3.864159e+06           0.285714\n",
       "Back Right Column Buoy -75 -50.0  -6.0  3.864159e+06           0.285714\n",
       "Front Heave Buoy         0   0.0 -13.0  6.440265e+05           0.047619\n",
       "Back Left Heave Buoy   -75  50.0 -13.0  6.440265e+05           0.047619\n",
       "Back Right Heave Buoy  -75 -50.0 -13.0  6.440265e+05           0.047619"
      ]
     },
     "execution_count": 5,
     "metadata": {},
     "output_type": "execute_result"
    }
   ],
   "source": [
    "coord.buoy_df"
   ]
  },
  {
   "cell_type": "code",
   "execution_count": 6,
   "metadata": {},
   "outputs": [
    {
     "data": {
      "text/plain": [
       "[-50.0, 0.0, -1.137794177384965]"
      ]
     },
     "execution_count": 6,
     "metadata": {},
     "output_type": "execute_result"
    }
   ],
   "source": [
    "coord.COM"
   ]
  },
  {
   "cell_type": "code",
   "execution_count": 7,
   "metadata": {},
   "outputs": [
    {
     "data": {
      "text/plain": [
       "[-49.999999999999986, 0.0, -6.999999999999998]"
      ]
     },
     "execution_count": 7,
     "metadata": {},
     "output_type": "execute_result"
    }
   ],
   "source": [
    "coord.COB"
   ]
  },
  {
   "cell_type": "code",
   "execution_count": 8,
   "metadata": {},
   "outputs": [
    {
     "data": {
      "text/plain": [
       "-5.862205822615033"
      ]
     },
     "execution_count": 8,
     "metadata": {},
     "output_type": "execute_result"
    }
   ],
   "source": [
    "coord.COB[2] - coord.COM[2]"
   ]
  },
  {
   "cell_type": "code",
   "execution_count": 9,
   "metadata": {},
   "outputs": [
    {
     "data": {
      "text/plain": [
       "62.4452020873159"
      ]
     },
     "execution_count": 9,
     "metadata": {},
     "output_type": "execute_result"
    }
   ],
   "source": [
    "coord.RoG"
   ]
  },
  {
   "cell_type": "code",
   "execution_count": 10,
   "metadata": {},
   "outputs": [],
   "source": [
    "genie = comp_hydrocoeff()\n",
    "genie.setup()"
   ]
  },
  {
   "cell_type": "code",
   "execution_count": 11,
   "metadata": {},
   "outputs": [],
   "source": [
    "genie.compute(coord, mass, floater)"
   ]
  },
  {
   "cell_type": "code",
   "execution_count": null,
   "metadata": {},
   "outputs": [],
   "source": []
  }
 ],
 "metadata": {
  "kernelspec": {
   "display_name": "Python 3",
   "language": "python",
   "name": "python3"
  },
  "language_info": {
   "codemirror_mode": {
    "name": "ipython",
    "version": 3
   },
   "file_extension": ".py",
   "mimetype": "text/x-python",
   "name": "python",
   "nbconvert_exporter": "python",
   "pygments_lexer": "ipython3",
   "version": "3.7.6"
  }
 },
 "nbformat": 4,
 "nbformat_minor": 4
}
